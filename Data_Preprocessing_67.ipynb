{
  "cells": [
    {
      "cell_type": "markdown",
      "metadata": {
        "id": "view-in-github",
        "colab_type": "text"
      },
      "source": [
        "<a href=\"https://colab.research.google.com/github/Phonchanit/Data_Warehouse/blob/main/Data_Preprocessing_67.ipynb\" target=\"_parent\"><img src=\"https://colab.research.google.com/assets/colab-badge.svg\" alt=\"Open In Colab\"/></a>"
      ]
    },
    {
      "cell_type": "markdown",
      "id": "2e4a7b28",
      "metadata": {
        "id": "2e4a7b28"
      },
      "source": [
        "# Data Preprocessing\n",
        "### Data Preprocessing, Data Visualization, Data Analysis"
      ]
    },
    {
      "cell_type": "markdown",
      "id": "6525cabe",
      "metadata": {
        "id": "6525cabe"
      },
      "source": [
        "ชื่อ:\n",
        "พรชนิตว์ เหล่าโยธี 653020212-4 คณะ : SC-SIDS"
      ]
    },
    {
      "cell_type": "markdown",
      "id": "475c076b",
      "metadata": {
        "id": "475c076b"
      },
      "source": [
        "กำหนดส่ง: อาทิตย์ 8 กันยายน 2567 (NO EXTENSION!)"
      ]
    },
    {
      "cell_type": "markdown",
      "id": "6d7668b9",
      "metadata": {
        "id": "6d7668b9"
      },
      "source": [
        "**ผลที่คาดหวังจากการทำงานนี้**\n",
        "* สามารถใช้ Python ในการอ่านข้อมูล\n",
        "* จัดการกับข้อมูลเบื้องต้นก่อนนำไปวิเคราะห์\n",
        "* สามารถวิเคราะห์ข้อมูลเบื้องต้นด้วยการสร้าง Data Visualization และ Pivot Tables\n",
        "\n",
        "**สิ่งที่ต้องมีในการทำงานนี้**\n",
        "* มีการติดตั้ง Python ในเครื่องคอมพิวเตอร์\n",
        "\n",
        "**Python libraries ที่ใช้ในงานนี้:**\n",
        "* Pandas (pandas.pydata.org)\n",
        "* Matplotlib (matplotlib.org)\n",
        "\n",
        "** NOTE **\n",
        "* อย่าลืมบันทึกงานที่ทำในโน้ตบุ๊คนี้เป็นประจำขณะทำงาน มิเช่นนั้นงานที่ทำอยู่อาจสูญหายได้\n",
        "* **เริ่มทำแต่เนิ่น ๆ อย่ารอที่จะทำก่อนส่ง เพราะจะทำไม่เสร็จ เนื่องจากปัญหามากมายที่จะเกิดขึ้นระหว่างการทำงาน และอาจารย์ไม่รับปรึกษาในคืนก่อนส่ง**\n",
        "----------------------"
      ]
    },
    {
      "cell_type": "code",
      "execution_count": 1,
      "id": "76bc1ee7",
      "metadata": {
        "id": "76bc1ee7"
      },
      "outputs": [],
      "source": [
        "\"\"\"\n",
        "หากไม่สามารถลง library ใด ให้ดาวน์โหลดดังตัวอย่างต่อไปนี้\n",
        "!pip3 install numpy\n",
        "\"\"\"\n",
        "from matplotlib import pyplot as plt\n",
        "import numpy as np\n",
        "import pandas as pd"
      ]
    },
    {
      "cell_type": "code",
      "source": [
        "\"\"\"\n",
        "# reading data sets from Google Drive\n",
        "from google.colab import drive\n",
        "drive.mount('/content/drive')\n",
        "\"\"\""
      ],
      "metadata": {
        "id": "0UBoaQBpNK9N"
      },
      "id": "0UBoaQBpNK9N",
      "execution_count": null,
      "outputs": []
    },
    {
      "cell_type": "markdown",
      "id": "3dc6dd2d",
      "metadata": {
        "id": "3dc6dd2d"
      },
      "source": [
        "## Titanic Data Set\n",
        "* (10 points) ข้อมูล Titanic เป็นหนึ่งในชุดข้อมูลที่ได้รับความนิยมมากที่สุดในแวดวงการเรียนรู้การวิเคราะห์ข้อมูลและการสร้างโมเดลทางสถิติหรือการเรียนรู้ของเครื่อง (Machine Learning) ชุดข้อมูลนี้มาจากเหตุการณ์เรือ Titanic ซึ่งเป็นเรือสำราญที่ใหญ่ที่สุดในยุคนั้น และเกิดอับปางในปี 1912 ทำให้มีผู้เสียชีวิตจำนวนมาก\n",
        "    ข้อมูลนี้ประกอบด้วยรายละเอียดของผู้โดยสารบนเรือ Titanic เช่น อายุ เพศ ชั้นที่นั่ง (Pclass) ค่าโดยสาร (Fare) จำนวนญาติพี่น้องหรือคู่สมรสบนเรือ (SibSp) และสถานที่ขึ้นเรือ (Embarked) โดยมีเป้าหมายหลักในการวิเคราะห์หรือการสร้างโมเดลคือการทำนายว่าผู้โดยสารคนนั้นจะรอดชีวิต (Survived) หรือไม่จากการอับปางของเรือ Titanic \\\n",
        "    https://www.kaggle.com/datasets/vinicius150987/titanic3/data"
      ]
    },
    {
      "cell_type": "markdown",
      "source": [
        "<center><img src=\"https://www.pigeonforgetncabins.com/wp-content/uploads/2015/06/experience-at-titanic-pigeon-forge.jpg\" alt=\"titanic\" width=\"400\"/></center>"
      ],
      "metadata": {
        "id": "Z6Weqf0SNOBR"
      },
      "id": "Z6Weqf0SNOBR"
    },
    {
      "cell_type": "code",
      "source": [
        "titanic = pd.read_excel('titanic3.xls')"
      ],
      "metadata": {
        "id": "0-whAL7kObQ4"
      },
      "id": "0-whAL7kObQ4",
      "execution_count": 2,
      "outputs": []
    },
    {
      "cell_type": "code",
      "execution_count": 3,
      "id": "af90f726",
      "metadata": {
        "scrolled": false,
        "id": "af90f726",
        "outputId": "f44f000b-ccab-4a7f-8f51-3e55f4ac7fec",
        "colab": {
          "base_uri": "https://localhost:8080/",
          "height": 825
        }
      },
      "outputs": [
        {
          "output_type": "execute_result",
          "data": {
            "text/plain": [
              "      pclass  survived                                             name  \\\n",
              "0          1         1                    Allen, Miss. Elisabeth Walton   \n",
              "1          1         1                   Allison, Master. Hudson Trevor   \n",
              "2          1         0                     Allison, Miss. Helen Loraine   \n",
              "3          1         0             Allison, Mr. Hudson Joshua Creighton   \n",
              "4          1         0  Allison, Mrs. Hudson J C (Bessie Waldo Daniels)   \n",
              "...      ...       ...                                              ...   \n",
              "1304       3         0                             Zabour, Miss. Hileni   \n",
              "1305       3         0                            Zabour, Miss. Thamine   \n",
              "1306       3         0                        Zakarian, Mr. Mapriededer   \n",
              "1307       3         0                              Zakarian, Mr. Ortin   \n",
              "1308       3         0                               Zimmerman, Mr. Leo   \n",
              "\n",
              "         sex      age  sibsp  parch  ticket      fare    cabin embarked boat  \\\n",
              "0     female  29.0000      0      0   24160  211.3375       B5        S    2   \n",
              "1       male   0.9167      1      2  113781  151.5500  C22 C26        S   11   \n",
              "2     female   2.0000      1      2  113781  151.5500  C22 C26        S  NaN   \n",
              "3       male  30.0000      1      2  113781  151.5500  C22 C26        S  NaN   \n",
              "4     female  25.0000      1      2  113781  151.5500  C22 C26        S  NaN   \n",
              "...      ...      ...    ...    ...     ...       ...      ...      ...  ...   \n",
              "1304  female  14.5000      1      0    2665   14.4542      NaN        C  NaN   \n",
              "1305  female      NaN      1      0    2665   14.4542      NaN        C  NaN   \n",
              "1306    male  26.5000      0      0    2656    7.2250      NaN        C  NaN   \n",
              "1307    male  27.0000      0      0    2670    7.2250      NaN        C  NaN   \n",
              "1308    male  29.0000      0      0  315082    7.8750      NaN        S  NaN   \n",
              "\n",
              "       body                        home.dest  \n",
              "0       NaN                     St Louis, MO  \n",
              "1       NaN  Montreal, PQ / Chesterville, ON  \n",
              "2       NaN  Montreal, PQ / Chesterville, ON  \n",
              "3     135.0  Montreal, PQ / Chesterville, ON  \n",
              "4       NaN  Montreal, PQ / Chesterville, ON  \n",
              "...     ...                              ...  \n",
              "1304  328.0                              NaN  \n",
              "1305    NaN                              NaN  \n",
              "1306  304.0                              NaN  \n",
              "1307    NaN                              NaN  \n",
              "1308    NaN                              NaN  \n",
              "\n",
              "[1309 rows x 14 columns]"
            ],
            "text/html": [
              "\n",
              "  <div id=\"df-4c97964f-cb2c-4b0d-b319-a7b27edca309\" class=\"colab-df-container\">\n",
              "    <div>\n",
              "<style scoped>\n",
              "    .dataframe tbody tr th:only-of-type {\n",
              "        vertical-align: middle;\n",
              "    }\n",
              "\n",
              "    .dataframe tbody tr th {\n",
              "        vertical-align: top;\n",
              "    }\n",
              "\n",
              "    .dataframe thead th {\n",
              "        text-align: right;\n",
              "    }\n",
              "</style>\n",
              "<table border=\"1\" class=\"dataframe\">\n",
              "  <thead>\n",
              "    <tr style=\"text-align: right;\">\n",
              "      <th></th>\n",
              "      <th>pclass</th>\n",
              "      <th>survived</th>\n",
              "      <th>name</th>\n",
              "      <th>sex</th>\n",
              "      <th>age</th>\n",
              "      <th>sibsp</th>\n",
              "      <th>parch</th>\n",
              "      <th>ticket</th>\n",
              "      <th>fare</th>\n",
              "      <th>cabin</th>\n",
              "      <th>embarked</th>\n",
              "      <th>boat</th>\n",
              "      <th>body</th>\n",
              "      <th>home.dest</th>\n",
              "    </tr>\n",
              "  </thead>\n",
              "  <tbody>\n",
              "    <tr>\n",
              "      <th>0</th>\n",
              "      <td>1</td>\n",
              "      <td>1</td>\n",
              "      <td>Allen, Miss. Elisabeth Walton</td>\n",
              "      <td>female</td>\n",
              "      <td>29.0000</td>\n",
              "      <td>0</td>\n",
              "      <td>0</td>\n",
              "      <td>24160</td>\n",
              "      <td>211.3375</td>\n",
              "      <td>B5</td>\n",
              "      <td>S</td>\n",
              "      <td>2</td>\n",
              "      <td>NaN</td>\n",
              "      <td>St Louis, MO</td>\n",
              "    </tr>\n",
              "    <tr>\n",
              "      <th>1</th>\n",
              "      <td>1</td>\n",
              "      <td>1</td>\n",
              "      <td>Allison, Master. Hudson Trevor</td>\n",
              "      <td>male</td>\n",
              "      <td>0.9167</td>\n",
              "      <td>1</td>\n",
              "      <td>2</td>\n",
              "      <td>113781</td>\n",
              "      <td>151.5500</td>\n",
              "      <td>C22 C26</td>\n",
              "      <td>S</td>\n",
              "      <td>11</td>\n",
              "      <td>NaN</td>\n",
              "      <td>Montreal, PQ / Chesterville, ON</td>\n",
              "    </tr>\n",
              "    <tr>\n",
              "      <th>2</th>\n",
              "      <td>1</td>\n",
              "      <td>0</td>\n",
              "      <td>Allison, Miss. Helen Loraine</td>\n",
              "      <td>female</td>\n",
              "      <td>2.0000</td>\n",
              "      <td>1</td>\n",
              "      <td>2</td>\n",
              "      <td>113781</td>\n",
              "      <td>151.5500</td>\n",
              "      <td>C22 C26</td>\n",
              "      <td>S</td>\n",
              "      <td>NaN</td>\n",
              "      <td>NaN</td>\n",
              "      <td>Montreal, PQ / Chesterville, ON</td>\n",
              "    </tr>\n",
              "    <tr>\n",
              "      <th>3</th>\n",
              "      <td>1</td>\n",
              "      <td>0</td>\n",
              "      <td>Allison, Mr. Hudson Joshua Creighton</td>\n",
              "      <td>male</td>\n",
              "      <td>30.0000</td>\n",
              "      <td>1</td>\n",
              "      <td>2</td>\n",
              "      <td>113781</td>\n",
              "      <td>151.5500</td>\n",
              "      <td>C22 C26</td>\n",
              "      <td>S</td>\n",
              "      <td>NaN</td>\n",
              "      <td>135.0</td>\n",
              "      <td>Montreal, PQ / Chesterville, ON</td>\n",
              "    </tr>\n",
              "    <tr>\n",
              "      <th>4</th>\n",
              "      <td>1</td>\n",
              "      <td>0</td>\n",
              "      <td>Allison, Mrs. Hudson J C (Bessie Waldo Daniels)</td>\n",
              "      <td>female</td>\n",
              "      <td>25.0000</td>\n",
              "      <td>1</td>\n",
              "      <td>2</td>\n",
              "      <td>113781</td>\n",
              "      <td>151.5500</td>\n",
              "      <td>C22 C26</td>\n",
              "      <td>S</td>\n",
              "      <td>NaN</td>\n",
              "      <td>NaN</td>\n",
              "      <td>Montreal, PQ / Chesterville, ON</td>\n",
              "    </tr>\n",
              "    <tr>\n",
              "      <th>...</th>\n",
              "      <td>...</td>\n",
              "      <td>...</td>\n",
              "      <td>...</td>\n",
              "      <td>...</td>\n",
              "      <td>...</td>\n",
              "      <td>...</td>\n",
              "      <td>...</td>\n",
              "      <td>...</td>\n",
              "      <td>...</td>\n",
              "      <td>...</td>\n",
              "      <td>...</td>\n",
              "      <td>...</td>\n",
              "      <td>...</td>\n",
              "      <td>...</td>\n",
              "    </tr>\n",
              "    <tr>\n",
              "      <th>1304</th>\n",
              "      <td>3</td>\n",
              "      <td>0</td>\n",
              "      <td>Zabour, Miss. Hileni</td>\n",
              "      <td>female</td>\n",
              "      <td>14.5000</td>\n",
              "      <td>1</td>\n",
              "      <td>0</td>\n",
              "      <td>2665</td>\n",
              "      <td>14.4542</td>\n",
              "      <td>NaN</td>\n",
              "      <td>C</td>\n",
              "      <td>NaN</td>\n",
              "      <td>328.0</td>\n",
              "      <td>NaN</td>\n",
              "    </tr>\n",
              "    <tr>\n",
              "      <th>1305</th>\n",
              "      <td>3</td>\n",
              "      <td>0</td>\n",
              "      <td>Zabour, Miss. Thamine</td>\n",
              "      <td>female</td>\n",
              "      <td>NaN</td>\n",
              "      <td>1</td>\n",
              "      <td>0</td>\n",
              "      <td>2665</td>\n",
              "      <td>14.4542</td>\n",
              "      <td>NaN</td>\n",
              "      <td>C</td>\n",
              "      <td>NaN</td>\n",
              "      <td>NaN</td>\n",
              "      <td>NaN</td>\n",
              "    </tr>\n",
              "    <tr>\n",
              "      <th>1306</th>\n",
              "      <td>3</td>\n",
              "      <td>0</td>\n",
              "      <td>Zakarian, Mr. Mapriededer</td>\n",
              "      <td>male</td>\n",
              "      <td>26.5000</td>\n",
              "      <td>0</td>\n",
              "      <td>0</td>\n",
              "      <td>2656</td>\n",
              "      <td>7.2250</td>\n",
              "      <td>NaN</td>\n",
              "      <td>C</td>\n",
              "      <td>NaN</td>\n",
              "      <td>304.0</td>\n",
              "      <td>NaN</td>\n",
              "    </tr>\n",
              "    <tr>\n",
              "      <th>1307</th>\n",
              "      <td>3</td>\n",
              "      <td>0</td>\n",
              "      <td>Zakarian, Mr. Ortin</td>\n",
              "      <td>male</td>\n",
              "      <td>27.0000</td>\n",
              "      <td>0</td>\n",
              "      <td>0</td>\n",
              "      <td>2670</td>\n",
              "      <td>7.2250</td>\n",
              "      <td>NaN</td>\n",
              "      <td>C</td>\n",
              "      <td>NaN</td>\n",
              "      <td>NaN</td>\n",
              "      <td>NaN</td>\n",
              "    </tr>\n",
              "    <tr>\n",
              "      <th>1308</th>\n",
              "      <td>3</td>\n",
              "      <td>0</td>\n",
              "      <td>Zimmerman, Mr. Leo</td>\n",
              "      <td>male</td>\n",
              "      <td>29.0000</td>\n",
              "      <td>0</td>\n",
              "      <td>0</td>\n",
              "      <td>315082</td>\n",
              "      <td>7.8750</td>\n",
              "      <td>NaN</td>\n",
              "      <td>S</td>\n",
              "      <td>NaN</td>\n",
              "      <td>NaN</td>\n",
              "      <td>NaN</td>\n",
              "    </tr>\n",
              "  </tbody>\n",
              "</table>\n",
              "<p>1309 rows × 14 columns</p>\n",
              "</div>\n",
              "    <div class=\"colab-df-buttons\">\n",
              "\n",
              "  <div class=\"colab-df-container\">\n",
              "    <button class=\"colab-df-convert\" onclick=\"convertToInteractive('df-4c97964f-cb2c-4b0d-b319-a7b27edca309')\"\n",
              "            title=\"Convert this dataframe to an interactive table.\"\n",
              "            style=\"display:none;\">\n",
              "\n",
              "  <svg xmlns=\"http://www.w3.org/2000/svg\" height=\"24px\" viewBox=\"0 -960 960 960\">\n",
              "    <path d=\"M120-120v-720h720v720H120Zm60-500h600v-160H180v160Zm220 220h160v-160H400v160Zm0 220h160v-160H400v160ZM180-400h160v-160H180v160Zm440 0h160v-160H620v160ZM180-180h160v-160H180v160Zm440 0h160v-160H620v160Z\"/>\n",
              "  </svg>\n",
              "    </button>\n",
              "\n",
              "  <style>\n",
              "    .colab-df-container {\n",
              "      display:flex;\n",
              "      gap: 12px;\n",
              "    }\n",
              "\n",
              "    .colab-df-convert {\n",
              "      background-color: #E8F0FE;\n",
              "      border: none;\n",
              "      border-radius: 50%;\n",
              "      cursor: pointer;\n",
              "      display: none;\n",
              "      fill: #1967D2;\n",
              "      height: 32px;\n",
              "      padding: 0 0 0 0;\n",
              "      width: 32px;\n",
              "    }\n",
              "\n",
              "    .colab-df-convert:hover {\n",
              "      background-color: #E2EBFA;\n",
              "      box-shadow: 0px 1px 2px rgba(60, 64, 67, 0.3), 0px 1px 3px 1px rgba(60, 64, 67, 0.15);\n",
              "      fill: #174EA6;\n",
              "    }\n",
              "\n",
              "    .colab-df-buttons div {\n",
              "      margin-bottom: 4px;\n",
              "    }\n",
              "\n",
              "    [theme=dark] .colab-df-convert {\n",
              "      background-color: #3B4455;\n",
              "      fill: #D2E3FC;\n",
              "    }\n",
              "\n",
              "    [theme=dark] .colab-df-convert:hover {\n",
              "      background-color: #434B5C;\n",
              "      box-shadow: 0px 1px 3px 1px rgba(0, 0, 0, 0.15);\n",
              "      filter: drop-shadow(0px 1px 2px rgba(0, 0, 0, 0.3));\n",
              "      fill: #FFFFFF;\n",
              "    }\n",
              "  </style>\n",
              "\n",
              "    <script>\n",
              "      const buttonEl =\n",
              "        document.querySelector('#df-4c97964f-cb2c-4b0d-b319-a7b27edca309 button.colab-df-convert');\n",
              "      buttonEl.style.display =\n",
              "        google.colab.kernel.accessAllowed ? 'block' : 'none';\n",
              "\n",
              "      async function convertToInteractive(key) {\n",
              "        const element = document.querySelector('#df-4c97964f-cb2c-4b0d-b319-a7b27edca309');\n",
              "        const dataTable =\n",
              "          await google.colab.kernel.invokeFunction('convertToInteractive',\n",
              "                                                    [key], {});\n",
              "        if (!dataTable) return;\n",
              "\n",
              "        const docLinkHtml = 'Like what you see? Visit the ' +\n",
              "          '<a target=\"_blank\" href=https://colab.research.google.com/notebooks/data_table.ipynb>data table notebook</a>'\n",
              "          + ' to learn more about interactive tables.';\n",
              "        element.innerHTML = '';\n",
              "        dataTable['output_type'] = 'display_data';\n",
              "        await google.colab.output.renderOutput(dataTable, element);\n",
              "        const docLink = document.createElement('div');\n",
              "        docLink.innerHTML = docLinkHtml;\n",
              "        element.appendChild(docLink);\n",
              "      }\n",
              "    </script>\n",
              "  </div>\n",
              "\n",
              "\n",
              "<div id=\"df-1bfdcbfd-d5ee-45d0-97a1-990649812ff6\">\n",
              "  <button class=\"colab-df-quickchart\" onclick=\"quickchart('df-1bfdcbfd-d5ee-45d0-97a1-990649812ff6')\"\n",
              "            title=\"Suggest charts\"\n",
              "            style=\"display:none;\">\n",
              "\n",
              "<svg xmlns=\"http://www.w3.org/2000/svg\" height=\"24px\"viewBox=\"0 0 24 24\"\n",
              "     width=\"24px\">\n",
              "    <g>\n",
              "        <path d=\"M19 3H5c-1.1 0-2 .9-2 2v14c0 1.1.9 2 2 2h14c1.1 0 2-.9 2-2V5c0-1.1-.9-2-2-2zM9 17H7v-7h2v7zm4 0h-2V7h2v10zm4 0h-2v-4h2v4z\"/>\n",
              "    </g>\n",
              "</svg>\n",
              "  </button>\n",
              "\n",
              "<style>\n",
              "  .colab-df-quickchart {\n",
              "      --bg-color: #E8F0FE;\n",
              "      --fill-color: #1967D2;\n",
              "      --hover-bg-color: #E2EBFA;\n",
              "      --hover-fill-color: #174EA6;\n",
              "      --disabled-fill-color: #AAA;\n",
              "      --disabled-bg-color: #DDD;\n",
              "  }\n",
              "\n",
              "  [theme=dark] .colab-df-quickchart {\n",
              "      --bg-color: #3B4455;\n",
              "      --fill-color: #D2E3FC;\n",
              "      --hover-bg-color: #434B5C;\n",
              "      --hover-fill-color: #FFFFFF;\n",
              "      --disabled-bg-color: #3B4455;\n",
              "      --disabled-fill-color: #666;\n",
              "  }\n",
              "\n",
              "  .colab-df-quickchart {\n",
              "    background-color: var(--bg-color);\n",
              "    border: none;\n",
              "    border-radius: 50%;\n",
              "    cursor: pointer;\n",
              "    display: none;\n",
              "    fill: var(--fill-color);\n",
              "    height: 32px;\n",
              "    padding: 0;\n",
              "    width: 32px;\n",
              "  }\n",
              "\n",
              "  .colab-df-quickchart:hover {\n",
              "    background-color: var(--hover-bg-color);\n",
              "    box-shadow: 0 1px 2px rgba(60, 64, 67, 0.3), 0 1px 3px 1px rgba(60, 64, 67, 0.15);\n",
              "    fill: var(--button-hover-fill-color);\n",
              "  }\n",
              "\n",
              "  .colab-df-quickchart-complete:disabled,\n",
              "  .colab-df-quickchart-complete:disabled:hover {\n",
              "    background-color: var(--disabled-bg-color);\n",
              "    fill: var(--disabled-fill-color);\n",
              "    box-shadow: none;\n",
              "  }\n",
              "\n",
              "  .colab-df-spinner {\n",
              "    border: 2px solid var(--fill-color);\n",
              "    border-color: transparent;\n",
              "    border-bottom-color: var(--fill-color);\n",
              "    animation:\n",
              "      spin 1s steps(1) infinite;\n",
              "  }\n",
              "\n",
              "  @keyframes spin {\n",
              "    0% {\n",
              "      border-color: transparent;\n",
              "      border-bottom-color: var(--fill-color);\n",
              "      border-left-color: var(--fill-color);\n",
              "    }\n",
              "    20% {\n",
              "      border-color: transparent;\n",
              "      border-left-color: var(--fill-color);\n",
              "      border-top-color: var(--fill-color);\n",
              "    }\n",
              "    30% {\n",
              "      border-color: transparent;\n",
              "      border-left-color: var(--fill-color);\n",
              "      border-top-color: var(--fill-color);\n",
              "      border-right-color: var(--fill-color);\n",
              "    }\n",
              "    40% {\n",
              "      border-color: transparent;\n",
              "      border-right-color: var(--fill-color);\n",
              "      border-top-color: var(--fill-color);\n",
              "    }\n",
              "    60% {\n",
              "      border-color: transparent;\n",
              "      border-right-color: var(--fill-color);\n",
              "    }\n",
              "    80% {\n",
              "      border-color: transparent;\n",
              "      border-right-color: var(--fill-color);\n",
              "      border-bottom-color: var(--fill-color);\n",
              "    }\n",
              "    90% {\n",
              "      border-color: transparent;\n",
              "      border-bottom-color: var(--fill-color);\n",
              "    }\n",
              "  }\n",
              "</style>\n",
              "\n",
              "  <script>\n",
              "    async function quickchart(key) {\n",
              "      const quickchartButtonEl =\n",
              "        document.querySelector('#' + key + ' button');\n",
              "      quickchartButtonEl.disabled = true;  // To prevent multiple clicks.\n",
              "      quickchartButtonEl.classList.add('colab-df-spinner');\n",
              "      try {\n",
              "        const charts = await google.colab.kernel.invokeFunction(\n",
              "            'suggestCharts', [key], {});\n",
              "      } catch (error) {\n",
              "        console.error('Error during call to suggestCharts:', error);\n",
              "      }\n",
              "      quickchartButtonEl.classList.remove('colab-df-spinner');\n",
              "      quickchartButtonEl.classList.add('colab-df-quickchart-complete');\n",
              "    }\n",
              "    (() => {\n",
              "      let quickchartButtonEl =\n",
              "        document.querySelector('#df-1bfdcbfd-d5ee-45d0-97a1-990649812ff6 button');\n",
              "      quickchartButtonEl.style.display =\n",
              "        google.colab.kernel.accessAllowed ? 'block' : 'none';\n",
              "    })();\n",
              "  </script>\n",
              "</div>\n",
              "\n",
              "  <div id=\"id_16968936-181e-46ad-92e6-bdf817543747\">\n",
              "    <style>\n",
              "      .colab-df-generate {\n",
              "        background-color: #E8F0FE;\n",
              "        border: none;\n",
              "        border-radius: 50%;\n",
              "        cursor: pointer;\n",
              "        display: none;\n",
              "        fill: #1967D2;\n",
              "        height: 32px;\n",
              "        padding: 0 0 0 0;\n",
              "        width: 32px;\n",
              "      }\n",
              "\n",
              "      .colab-df-generate:hover {\n",
              "        background-color: #E2EBFA;\n",
              "        box-shadow: 0px 1px 2px rgba(60, 64, 67, 0.3), 0px 1px 3px 1px rgba(60, 64, 67, 0.15);\n",
              "        fill: #174EA6;\n",
              "      }\n",
              "\n",
              "      [theme=dark] .colab-df-generate {\n",
              "        background-color: #3B4455;\n",
              "        fill: #D2E3FC;\n",
              "      }\n",
              "\n",
              "      [theme=dark] .colab-df-generate:hover {\n",
              "        background-color: #434B5C;\n",
              "        box-shadow: 0px 1px 3px 1px rgba(0, 0, 0, 0.15);\n",
              "        filter: drop-shadow(0px 1px 2px rgba(0, 0, 0, 0.3));\n",
              "        fill: #FFFFFF;\n",
              "      }\n",
              "    </style>\n",
              "    <button class=\"colab-df-generate\" onclick=\"generateWithVariable('titanic')\"\n",
              "            title=\"Generate code using this dataframe.\"\n",
              "            style=\"display:none;\">\n",
              "\n",
              "  <svg xmlns=\"http://www.w3.org/2000/svg\" height=\"24px\"viewBox=\"0 0 24 24\"\n",
              "       width=\"24px\">\n",
              "    <path d=\"M7,19H8.4L18.45,9,17,7.55,7,17.6ZM5,21V16.75L18.45,3.32a2,2,0,0,1,2.83,0l1.4,1.43a1.91,1.91,0,0,1,.58,1.4,1.91,1.91,0,0,1-.58,1.4L9.25,21ZM18.45,9,17,7.55Zm-12,3A5.31,5.31,0,0,0,4.9,8.1,5.31,5.31,0,0,0,1,6.5,5.31,5.31,0,0,0,4.9,4.9,5.31,5.31,0,0,0,6.5,1,5.31,5.31,0,0,0,8.1,4.9,5.31,5.31,0,0,0,12,6.5,5.46,5.46,0,0,0,6.5,12Z\"/>\n",
              "  </svg>\n",
              "    </button>\n",
              "    <script>\n",
              "      (() => {\n",
              "      const buttonEl =\n",
              "        document.querySelector('#id_16968936-181e-46ad-92e6-bdf817543747 button.colab-df-generate');\n",
              "      buttonEl.style.display =\n",
              "        google.colab.kernel.accessAllowed ? 'block' : 'none';\n",
              "\n",
              "      buttonEl.onclick = () => {\n",
              "        google.colab.notebook.generateWithVariable('titanic');\n",
              "      }\n",
              "      })();\n",
              "    </script>\n",
              "  </div>\n",
              "\n",
              "    </div>\n",
              "  </div>\n"
            ],
            "application/vnd.google.colaboratory.intrinsic+json": {
              "type": "dataframe",
              "variable_name": "titanic",
              "summary": "{\n  \"name\": \"titanic\",\n  \"rows\": 1309,\n  \"fields\": [\n    {\n      \"column\": \"pclass\",\n      \"properties\": {\n        \"dtype\": \"number\",\n        \"std\": 0,\n        \"min\": 1,\n        \"max\": 3,\n        \"num_unique_values\": 3,\n        \"samples\": [\n          1,\n          2,\n          3\n        ],\n        \"semantic_type\": \"\",\n        \"description\": \"\"\n      }\n    },\n    {\n      \"column\": \"survived\",\n      \"properties\": {\n        \"dtype\": \"number\",\n        \"std\": 0,\n        \"min\": 0,\n        \"max\": 1,\n        \"num_unique_values\": 2,\n        \"samples\": [\n          0,\n          1\n        ],\n        \"semantic_type\": \"\",\n        \"description\": \"\"\n      }\n    },\n    {\n      \"column\": \"name\",\n      \"properties\": {\n        \"dtype\": \"string\",\n        \"num_unique_values\": 1307,\n        \"samples\": [\n          \"Saade, Mr. Jean Nassr\",\n          \"Nakid, Mr. Sahid\"\n        ],\n        \"semantic_type\": \"\",\n        \"description\": \"\"\n      }\n    },\n    {\n      \"column\": \"sex\",\n      \"properties\": {\n        \"dtype\": \"category\",\n        \"num_unique_values\": 2,\n        \"samples\": [\n          \"male\",\n          \"female\"\n        ],\n        \"semantic_type\": \"\",\n        \"description\": \"\"\n      }\n    },\n    {\n      \"column\": \"age\",\n      \"properties\": {\n        \"dtype\": \"number\",\n        \"std\": 14.413499699923602,\n        \"min\": 0.1667,\n        \"max\": 80.0,\n        \"num_unique_values\": 98,\n        \"samples\": [\n          57.0,\n          55.0\n        ],\n        \"semantic_type\": \"\",\n        \"description\": \"\"\n      }\n    },\n    {\n      \"column\": \"sibsp\",\n      \"properties\": {\n        \"dtype\": \"number\",\n        \"std\": 1,\n        \"min\": 0,\n        \"max\": 8,\n        \"num_unique_values\": 7,\n        \"samples\": [\n          0,\n          1\n        ],\n        \"semantic_type\": \"\",\n        \"description\": \"\"\n      }\n    },\n    {\n      \"column\": \"parch\",\n      \"properties\": {\n        \"dtype\": \"number\",\n        \"std\": 0,\n        \"min\": 0,\n        \"max\": 9,\n        \"num_unique_values\": 8,\n        \"samples\": [\n          2,\n          5\n        ],\n        \"semantic_type\": \"\",\n        \"description\": \"\"\n      }\n    },\n    {\n      \"column\": \"ticket\",\n      \"properties\": {\n        \"dtype\": \"string\",\n        \"num_unique_values\": 939,\n        \"samples\": [\n          \"223596\",\n          33638\n        ],\n        \"semantic_type\": \"\",\n        \"description\": \"\"\n      }\n    },\n    {\n      \"column\": \"fare\",\n      \"properties\": {\n        \"dtype\": \"number\",\n        \"std\": 51.75866823917411,\n        \"min\": 0.0,\n        \"max\": 512.3292,\n        \"num_unique_values\": 281,\n        \"samples\": [\n          5.0,\n          9.35\n        ],\n        \"semantic_type\": \"\",\n        \"description\": \"\"\n      }\n    },\n    {\n      \"column\": \"cabin\",\n      \"properties\": {\n        \"dtype\": \"category\",\n        \"num_unique_values\": 186,\n        \"samples\": [\n          \"C90\",\n          \"C80\"\n        ],\n        \"semantic_type\": \"\",\n        \"description\": \"\"\n      }\n    },\n    {\n      \"column\": \"embarked\",\n      \"properties\": {\n        \"dtype\": \"category\",\n        \"num_unique_values\": 3,\n        \"samples\": [\n          \"S\",\n          \"C\"\n        ],\n        \"semantic_type\": \"\",\n        \"description\": \"\"\n      }\n    },\n    {\n      \"column\": \"boat\",\n      \"properties\": {\n        \"dtype\": \"category\",\n        \"num_unique_values\": 28,\n        \"samples\": [\n          \"8\",\n          \"C D\"\n        ],\n        \"semantic_type\": \"\",\n        \"description\": \"\"\n      }\n    },\n    {\n      \"column\": \"body\",\n      \"properties\": {\n        \"dtype\": \"number\",\n        \"std\": 97.6969219960031,\n        \"min\": 1.0,\n        \"max\": 328.0,\n        \"num_unique_values\": 121,\n        \"samples\": [\n          297.0,\n          19.0\n        ],\n        \"semantic_type\": \"\",\n        \"description\": \"\"\n      }\n    },\n    {\n      \"column\": \"home.dest\",\n      \"properties\": {\n        \"dtype\": \"category\",\n        \"num_unique_values\": 369,\n        \"samples\": [\n          \"Co Limerick, Ireland Sherbrooke, PQ\",\n          \"Amenia, ND\"\n        ],\n        \"semantic_type\": \"\",\n        \"description\": \"\"\n      }\n    }\n  ]\n}"
            }
          },
          "metadata": {},
          "execution_count": 3
        }
      ],
      "source": [
        "titanic"
      ]
    },
    {
      "cell_type": "code",
      "execution_count": 4,
      "id": "d37ba336",
      "metadata": {
        "id": "d37ba336",
        "outputId": "490e2f69-43d9-4b83-abfd-39ce4aee2348",
        "colab": {
          "base_uri": "https://localhost:8080/",
          "height": 300
        }
      },
      "outputs": [
        {
          "output_type": "execute_result",
          "data": {
            "text/plain": [
              "            pclass     survived          age        sibsp        parch  \\\n",
              "count  1309.000000  1309.000000  1046.000000  1309.000000  1309.000000   \n",
              "mean      2.294882     0.381971    29.881135     0.498854     0.385027   \n",
              "std       0.837836     0.486055    14.413500     1.041658     0.865560   \n",
              "min       1.000000     0.000000     0.166700     0.000000     0.000000   \n",
              "25%       2.000000     0.000000    21.000000     0.000000     0.000000   \n",
              "50%       3.000000     0.000000    28.000000     0.000000     0.000000   \n",
              "75%       3.000000     1.000000    39.000000     1.000000     0.000000   \n",
              "max       3.000000     1.000000    80.000000     8.000000     9.000000   \n",
              "\n",
              "              fare        body  \n",
              "count  1308.000000  121.000000  \n",
              "mean     33.295479  160.809917  \n",
              "std      51.758668   97.696922  \n",
              "min       0.000000    1.000000  \n",
              "25%       7.895800   72.000000  \n",
              "50%      14.454200  155.000000  \n",
              "75%      31.275000  256.000000  \n",
              "max     512.329200  328.000000  "
            ],
            "text/html": [
              "\n",
              "  <div id=\"df-a1fbd1f0-4c39-4fb8-9fb5-ad3ee883feb1\" class=\"colab-df-container\">\n",
              "    <div>\n",
              "<style scoped>\n",
              "    .dataframe tbody tr th:only-of-type {\n",
              "        vertical-align: middle;\n",
              "    }\n",
              "\n",
              "    .dataframe tbody tr th {\n",
              "        vertical-align: top;\n",
              "    }\n",
              "\n",
              "    .dataframe thead th {\n",
              "        text-align: right;\n",
              "    }\n",
              "</style>\n",
              "<table border=\"1\" class=\"dataframe\">\n",
              "  <thead>\n",
              "    <tr style=\"text-align: right;\">\n",
              "      <th></th>\n",
              "      <th>pclass</th>\n",
              "      <th>survived</th>\n",
              "      <th>age</th>\n",
              "      <th>sibsp</th>\n",
              "      <th>parch</th>\n",
              "      <th>fare</th>\n",
              "      <th>body</th>\n",
              "    </tr>\n",
              "  </thead>\n",
              "  <tbody>\n",
              "    <tr>\n",
              "      <th>count</th>\n",
              "      <td>1309.000000</td>\n",
              "      <td>1309.000000</td>\n",
              "      <td>1046.000000</td>\n",
              "      <td>1309.000000</td>\n",
              "      <td>1309.000000</td>\n",
              "      <td>1308.000000</td>\n",
              "      <td>121.000000</td>\n",
              "    </tr>\n",
              "    <tr>\n",
              "      <th>mean</th>\n",
              "      <td>2.294882</td>\n",
              "      <td>0.381971</td>\n",
              "      <td>29.881135</td>\n",
              "      <td>0.498854</td>\n",
              "      <td>0.385027</td>\n",
              "      <td>33.295479</td>\n",
              "      <td>160.809917</td>\n",
              "    </tr>\n",
              "    <tr>\n",
              "      <th>std</th>\n",
              "      <td>0.837836</td>\n",
              "      <td>0.486055</td>\n",
              "      <td>14.413500</td>\n",
              "      <td>1.041658</td>\n",
              "      <td>0.865560</td>\n",
              "      <td>51.758668</td>\n",
              "      <td>97.696922</td>\n",
              "    </tr>\n",
              "    <tr>\n",
              "      <th>min</th>\n",
              "      <td>1.000000</td>\n",
              "      <td>0.000000</td>\n",
              "      <td>0.166700</td>\n",
              "      <td>0.000000</td>\n",
              "      <td>0.000000</td>\n",
              "      <td>0.000000</td>\n",
              "      <td>1.000000</td>\n",
              "    </tr>\n",
              "    <tr>\n",
              "      <th>25%</th>\n",
              "      <td>2.000000</td>\n",
              "      <td>0.000000</td>\n",
              "      <td>21.000000</td>\n",
              "      <td>0.000000</td>\n",
              "      <td>0.000000</td>\n",
              "      <td>7.895800</td>\n",
              "      <td>72.000000</td>\n",
              "    </tr>\n",
              "    <tr>\n",
              "      <th>50%</th>\n",
              "      <td>3.000000</td>\n",
              "      <td>0.000000</td>\n",
              "      <td>28.000000</td>\n",
              "      <td>0.000000</td>\n",
              "      <td>0.000000</td>\n",
              "      <td>14.454200</td>\n",
              "      <td>155.000000</td>\n",
              "    </tr>\n",
              "    <tr>\n",
              "      <th>75%</th>\n",
              "      <td>3.000000</td>\n",
              "      <td>1.000000</td>\n",
              "      <td>39.000000</td>\n",
              "      <td>1.000000</td>\n",
              "      <td>0.000000</td>\n",
              "      <td>31.275000</td>\n",
              "      <td>256.000000</td>\n",
              "    </tr>\n",
              "    <tr>\n",
              "      <th>max</th>\n",
              "      <td>3.000000</td>\n",
              "      <td>1.000000</td>\n",
              "      <td>80.000000</td>\n",
              "      <td>8.000000</td>\n",
              "      <td>9.000000</td>\n",
              "      <td>512.329200</td>\n",
              "      <td>328.000000</td>\n",
              "    </tr>\n",
              "  </tbody>\n",
              "</table>\n",
              "</div>\n",
              "    <div class=\"colab-df-buttons\">\n",
              "\n",
              "  <div class=\"colab-df-container\">\n",
              "    <button class=\"colab-df-convert\" onclick=\"convertToInteractive('df-a1fbd1f0-4c39-4fb8-9fb5-ad3ee883feb1')\"\n",
              "            title=\"Convert this dataframe to an interactive table.\"\n",
              "            style=\"display:none;\">\n",
              "\n",
              "  <svg xmlns=\"http://www.w3.org/2000/svg\" height=\"24px\" viewBox=\"0 -960 960 960\">\n",
              "    <path d=\"M120-120v-720h720v720H120Zm60-500h600v-160H180v160Zm220 220h160v-160H400v160Zm0 220h160v-160H400v160ZM180-400h160v-160H180v160Zm440 0h160v-160H620v160ZM180-180h160v-160H180v160Zm440 0h160v-160H620v160Z\"/>\n",
              "  </svg>\n",
              "    </button>\n",
              "\n",
              "  <style>\n",
              "    .colab-df-container {\n",
              "      display:flex;\n",
              "      gap: 12px;\n",
              "    }\n",
              "\n",
              "    .colab-df-convert {\n",
              "      background-color: #E8F0FE;\n",
              "      border: none;\n",
              "      border-radius: 50%;\n",
              "      cursor: pointer;\n",
              "      display: none;\n",
              "      fill: #1967D2;\n",
              "      height: 32px;\n",
              "      padding: 0 0 0 0;\n",
              "      width: 32px;\n",
              "    }\n",
              "\n",
              "    .colab-df-convert:hover {\n",
              "      background-color: #E2EBFA;\n",
              "      box-shadow: 0px 1px 2px rgba(60, 64, 67, 0.3), 0px 1px 3px 1px rgba(60, 64, 67, 0.15);\n",
              "      fill: #174EA6;\n",
              "    }\n",
              "\n",
              "    .colab-df-buttons div {\n",
              "      margin-bottom: 4px;\n",
              "    }\n",
              "\n",
              "    [theme=dark] .colab-df-convert {\n",
              "      background-color: #3B4455;\n",
              "      fill: #D2E3FC;\n",
              "    }\n",
              "\n",
              "    [theme=dark] .colab-df-convert:hover {\n",
              "      background-color: #434B5C;\n",
              "      box-shadow: 0px 1px 3px 1px rgba(0, 0, 0, 0.15);\n",
              "      filter: drop-shadow(0px 1px 2px rgba(0, 0, 0, 0.3));\n",
              "      fill: #FFFFFF;\n",
              "    }\n",
              "  </style>\n",
              "\n",
              "    <script>\n",
              "      const buttonEl =\n",
              "        document.querySelector('#df-a1fbd1f0-4c39-4fb8-9fb5-ad3ee883feb1 button.colab-df-convert');\n",
              "      buttonEl.style.display =\n",
              "        google.colab.kernel.accessAllowed ? 'block' : 'none';\n",
              "\n",
              "      async function convertToInteractive(key) {\n",
              "        const element = document.querySelector('#df-a1fbd1f0-4c39-4fb8-9fb5-ad3ee883feb1');\n",
              "        const dataTable =\n",
              "          await google.colab.kernel.invokeFunction('convertToInteractive',\n",
              "                                                    [key], {});\n",
              "        if (!dataTable) return;\n",
              "\n",
              "        const docLinkHtml = 'Like what you see? Visit the ' +\n",
              "          '<a target=\"_blank\" href=https://colab.research.google.com/notebooks/data_table.ipynb>data table notebook</a>'\n",
              "          + ' to learn more about interactive tables.';\n",
              "        element.innerHTML = '';\n",
              "        dataTable['output_type'] = 'display_data';\n",
              "        await google.colab.output.renderOutput(dataTable, element);\n",
              "        const docLink = document.createElement('div');\n",
              "        docLink.innerHTML = docLinkHtml;\n",
              "        element.appendChild(docLink);\n",
              "      }\n",
              "    </script>\n",
              "  </div>\n",
              "\n",
              "\n",
              "<div id=\"df-e0ec9166-d3db-4474-9c18-09dc47bb48aa\">\n",
              "  <button class=\"colab-df-quickchart\" onclick=\"quickchart('df-e0ec9166-d3db-4474-9c18-09dc47bb48aa')\"\n",
              "            title=\"Suggest charts\"\n",
              "            style=\"display:none;\">\n",
              "\n",
              "<svg xmlns=\"http://www.w3.org/2000/svg\" height=\"24px\"viewBox=\"0 0 24 24\"\n",
              "     width=\"24px\">\n",
              "    <g>\n",
              "        <path d=\"M19 3H5c-1.1 0-2 .9-2 2v14c0 1.1.9 2 2 2h14c1.1 0 2-.9 2-2V5c0-1.1-.9-2-2-2zM9 17H7v-7h2v7zm4 0h-2V7h2v10zm4 0h-2v-4h2v4z\"/>\n",
              "    </g>\n",
              "</svg>\n",
              "  </button>\n",
              "\n",
              "<style>\n",
              "  .colab-df-quickchart {\n",
              "      --bg-color: #E8F0FE;\n",
              "      --fill-color: #1967D2;\n",
              "      --hover-bg-color: #E2EBFA;\n",
              "      --hover-fill-color: #174EA6;\n",
              "      --disabled-fill-color: #AAA;\n",
              "      --disabled-bg-color: #DDD;\n",
              "  }\n",
              "\n",
              "  [theme=dark] .colab-df-quickchart {\n",
              "      --bg-color: #3B4455;\n",
              "      --fill-color: #D2E3FC;\n",
              "      --hover-bg-color: #434B5C;\n",
              "      --hover-fill-color: #FFFFFF;\n",
              "      --disabled-bg-color: #3B4455;\n",
              "      --disabled-fill-color: #666;\n",
              "  }\n",
              "\n",
              "  .colab-df-quickchart {\n",
              "    background-color: var(--bg-color);\n",
              "    border: none;\n",
              "    border-radius: 50%;\n",
              "    cursor: pointer;\n",
              "    display: none;\n",
              "    fill: var(--fill-color);\n",
              "    height: 32px;\n",
              "    padding: 0;\n",
              "    width: 32px;\n",
              "  }\n",
              "\n",
              "  .colab-df-quickchart:hover {\n",
              "    background-color: var(--hover-bg-color);\n",
              "    box-shadow: 0 1px 2px rgba(60, 64, 67, 0.3), 0 1px 3px 1px rgba(60, 64, 67, 0.15);\n",
              "    fill: var(--button-hover-fill-color);\n",
              "  }\n",
              "\n",
              "  .colab-df-quickchart-complete:disabled,\n",
              "  .colab-df-quickchart-complete:disabled:hover {\n",
              "    background-color: var(--disabled-bg-color);\n",
              "    fill: var(--disabled-fill-color);\n",
              "    box-shadow: none;\n",
              "  }\n",
              "\n",
              "  .colab-df-spinner {\n",
              "    border: 2px solid var(--fill-color);\n",
              "    border-color: transparent;\n",
              "    border-bottom-color: var(--fill-color);\n",
              "    animation:\n",
              "      spin 1s steps(1) infinite;\n",
              "  }\n",
              "\n",
              "  @keyframes spin {\n",
              "    0% {\n",
              "      border-color: transparent;\n",
              "      border-bottom-color: var(--fill-color);\n",
              "      border-left-color: var(--fill-color);\n",
              "    }\n",
              "    20% {\n",
              "      border-color: transparent;\n",
              "      border-left-color: var(--fill-color);\n",
              "      border-top-color: var(--fill-color);\n",
              "    }\n",
              "    30% {\n",
              "      border-color: transparent;\n",
              "      border-left-color: var(--fill-color);\n",
              "      border-top-color: var(--fill-color);\n",
              "      border-right-color: var(--fill-color);\n",
              "    }\n",
              "    40% {\n",
              "      border-color: transparent;\n",
              "      border-right-color: var(--fill-color);\n",
              "      border-top-color: var(--fill-color);\n",
              "    }\n",
              "    60% {\n",
              "      border-color: transparent;\n",
              "      border-right-color: var(--fill-color);\n",
              "    }\n",
              "    80% {\n",
              "      border-color: transparent;\n",
              "      border-right-color: var(--fill-color);\n",
              "      border-bottom-color: var(--fill-color);\n",
              "    }\n",
              "    90% {\n",
              "      border-color: transparent;\n",
              "      border-bottom-color: var(--fill-color);\n",
              "    }\n",
              "  }\n",
              "</style>\n",
              "\n",
              "  <script>\n",
              "    async function quickchart(key) {\n",
              "      const quickchartButtonEl =\n",
              "        document.querySelector('#' + key + ' button');\n",
              "      quickchartButtonEl.disabled = true;  // To prevent multiple clicks.\n",
              "      quickchartButtonEl.classList.add('colab-df-spinner');\n",
              "      try {\n",
              "        const charts = await google.colab.kernel.invokeFunction(\n",
              "            'suggestCharts', [key], {});\n",
              "      } catch (error) {\n",
              "        console.error('Error during call to suggestCharts:', error);\n",
              "      }\n",
              "      quickchartButtonEl.classList.remove('colab-df-spinner');\n",
              "      quickchartButtonEl.classList.add('colab-df-quickchart-complete');\n",
              "    }\n",
              "    (() => {\n",
              "      let quickchartButtonEl =\n",
              "        document.querySelector('#df-e0ec9166-d3db-4474-9c18-09dc47bb48aa button');\n",
              "      quickchartButtonEl.style.display =\n",
              "        google.colab.kernel.accessAllowed ? 'block' : 'none';\n",
              "    })();\n",
              "  </script>\n",
              "</div>\n",
              "\n",
              "    </div>\n",
              "  </div>\n"
            ],
            "application/vnd.google.colaboratory.intrinsic+json": {
              "type": "dataframe",
              "summary": "{\n  \"name\": \"titanic\",\n  \"rows\": 8,\n  \"fields\": [\n    {\n      \"column\": \"pclass\",\n      \"properties\": {\n        \"dtype\": \"number\",\n        \"std\": 462.03788291201516,\n        \"min\": 0.8378360189701274,\n        \"max\": 1309.0,\n        \"num_unique_values\": 6,\n        \"samples\": [\n          1309.0,\n          2.294881588999236,\n          3.0\n        ],\n        \"semantic_type\": \"\",\n        \"description\": \"\"\n      }\n    },\n    {\n      \"column\": \"survived\",\n      \"properties\": {\n        \"dtype\": \"number\",\n        \"std\": 462.6567174482674,\n        \"min\": 0.0,\n        \"max\": 1309.0,\n        \"num_unique_values\": 5,\n        \"samples\": [\n          0.3819709702062643,\n          1.0,\n          0.4860551708664827\n        ],\n        \"semantic_type\": \"\",\n        \"description\": \"\"\n      }\n    },\n    {\n      \"column\": \"age\",\n      \"properties\": {\n        \"dtype\": \"number\",\n        \"std\": 359.84064781685913,\n        \"min\": 0.1667,\n        \"max\": 1046.0,\n        \"num_unique_values\": 8,\n        \"samples\": [\n          29.8811345124283,\n          28.0,\n          1046.0\n        ],\n        \"semantic_type\": \"\",\n        \"description\": \"\"\n      }\n    },\n    {\n      \"column\": \"sibsp\",\n      \"properties\": {\n        \"dtype\": \"number\",\n        \"std\": 462.27680922007715,\n        \"min\": 0.0,\n        \"max\": 1309.0,\n        \"num_unique_values\": 6,\n        \"samples\": [\n          1309.0,\n          0.4988540870893812,\n          8.0\n        ],\n        \"semantic_type\": \"\",\n        \"description\": \"\"\n      }\n    },\n    {\n      \"column\": \"parch\",\n      \"properties\": {\n        \"dtype\": \"number\",\n        \"std\": 462.29399018424664,\n        \"min\": 0.0,\n        \"max\": 1309.0,\n        \"num_unique_values\": 5,\n        \"samples\": [\n          0.3850267379679144,\n          9.0,\n          0.8655602753495147\n        ],\n        \"semantic_type\": \"\",\n        \"description\": \"\"\n      }\n    },\n    {\n      \"column\": \"fare\",\n      \"properties\": {\n        \"dtype\": \"number\",\n        \"std\": 462.70446257758823,\n        \"min\": 0.0,\n        \"max\": 1308.0,\n        \"num_unique_values\": 8,\n        \"samples\": [\n          33.29547928134557,\n          14.4542,\n          1308.0\n        ],\n        \"semantic_type\": \"\",\n        \"description\": \"\"\n      }\n    },\n    {\n      \"column\": \"body\",\n      \"properties\": {\n        \"dtype\": \"number\",\n        \"std\": 103.45078164428638,\n        \"min\": 1.0,\n        \"max\": 328.0,\n        \"num_unique_values\": 8,\n        \"samples\": [\n          160.8099173553719,\n          155.0,\n          121.0\n        ],\n        \"semantic_type\": \"\",\n        \"description\": \"\"\n      }\n    }\n  ]\n}"
            }
          },
          "metadata": {},
          "execution_count": 4
        }
      ],
      "source": [
        "titanic.describe()"
      ]
    },
    {
      "cell_type": "markdown",
      "id": "bbf2b515",
      "metadata": {
        "id": "bbf2b515"
      },
      "source": [
        "* (10 points) จากข้อมูลที่ให้มา มีค่าว่างสูญหายมากน้อยแค่ไหน? และมีค่าผิดปกติ (outliers) และหรือข้อมูลรบกวน (noisy data) หรือไม่ในแต่ละตัวแปร?"
      ]
    },
    {
      "cell_type": "code",
      "source": [
        "# ตรวจสอบค่าว่างในข้อมูล\n",
        "missing_values = titanic.isnull().sum()\n",
        "\n",
        "# แสดงผลจำนวนค่าว่าง\n",
        "missing_values"
      ],
      "metadata": {
        "colab": {
          "base_uri": "https://localhost:8080/",
          "height": 523
        },
        "id": "SlOgfis3RAby",
        "outputId": "bc630f8b-9731-4861-dc4d-7d885faa1518"
      },
      "id": "SlOgfis3RAby",
      "execution_count": 5,
      "outputs": [
        {
          "output_type": "execute_result",
          "data": {
            "text/plain": [
              "pclass          0\n",
              "survived        0\n",
              "name            0\n",
              "sex             0\n",
              "age           263\n",
              "sibsp           0\n",
              "parch           0\n",
              "ticket          0\n",
              "fare            1\n",
              "cabin        1014\n",
              "embarked        2\n",
              "boat          823\n",
              "body         1188\n",
              "home.dest     564\n",
              "dtype: int64"
            ],
            "text/html": [
              "<div>\n",
              "<style scoped>\n",
              "    .dataframe tbody tr th:only-of-type {\n",
              "        vertical-align: middle;\n",
              "    }\n",
              "\n",
              "    .dataframe tbody tr th {\n",
              "        vertical-align: top;\n",
              "    }\n",
              "\n",
              "    .dataframe thead th {\n",
              "        text-align: right;\n",
              "    }\n",
              "</style>\n",
              "<table border=\"1\" class=\"dataframe\">\n",
              "  <thead>\n",
              "    <tr style=\"text-align: right;\">\n",
              "      <th></th>\n",
              "      <th>0</th>\n",
              "    </tr>\n",
              "  </thead>\n",
              "  <tbody>\n",
              "    <tr>\n",
              "      <th>pclass</th>\n",
              "      <td>0</td>\n",
              "    </tr>\n",
              "    <tr>\n",
              "      <th>survived</th>\n",
              "      <td>0</td>\n",
              "    </tr>\n",
              "    <tr>\n",
              "      <th>name</th>\n",
              "      <td>0</td>\n",
              "    </tr>\n",
              "    <tr>\n",
              "      <th>sex</th>\n",
              "      <td>0</td>\n",
              "    </tr>\n",
              "    <tr>\n",
              "      <th>age</th>\n",
              "      <td>263</td>\n",
              "    </tr>\n",
              "    <tr>\n",
              "      <th>sibsp</th>\n",
              "      <td>0</td>\n",
              "    </tr>\n",
              "    <tr>\n",
              "      <th>parch</th>\n",
              "      <td>0</td>\n",
              "    </tr>\n",
              "    <tr>\n",
              "      <th>ticket</th>\n",
              "      <td>0</td>\n",
              "    </tr>\n",
              "    <tr>\n",
              "      <th>fare</th>\n",
              "      <td>1</td>\n",
              "    </tr>\n",
              "    <tr>\n",
              "      <th>cabin</th>\n",
              "      <td>1014</td>\n",
              "    </tr>\n",
              "    <tr>\n",
              "      <th>embarked</th>\n",
              "      <td>2</td>\n",
              "    </tr>\n",
              "    <tr>\n",
              "      <th>boat</th>\n",
              "      <td>823</td>\n",
              "    </tr>\n",
              "    <tr>\n",
              "      <th>body</th>\n",
              "      <td>1188</td>\n",
              "    </tr>\n",
              "    <tr>\n",
              "      <th>home.dest</th>\n",
              "      <td>564</td>\n",
              "    </tr>\n",
              "  </tbody>\n",
              "</table>\n",
              "</div><br><label><b>dtype:</b> int64</label>"
            ]
          },
          "metadata": {},
          "execution_count": 5
        }
      ]
    },
    {
      "cell_type": "code",
      "source": [
        "# ลบแถวที่มีค่าว่าง\n",
        "titanic_dropped = titanic.dropna()\n",
        "# แต่ลบแล้วข้อมูลมันจะหายเยอะมากๆ เลยค่ะ เลยไม่เอาที่ drop missing values มาวิเคราะห์ เพราะทำไม่ได้\n",
        "\n",
        "\n",
        "# หาค่า outliers ในแต่ละตัวแปร (ตัวอย่างสำหรับตัวแปร Age)\n",
        "Q1 = titanic['age'].quantile(0.25)\n",
        "Q3 = titanic['age'].quantile(0.75)\n",
        "IQR = Q3 - Q1\n",
        "lower_bound = Q1 - 1.5 * IQR\n",
        "upper_bound = Q3 + 1.5 * IQR\n",
        "outliers = titanic[(titanic['age'] < lower_bound) | (titanic['age'] > upper_bound)]\n",
        "\n",
        "# แสดงผลค่า outliers\n",
        "print(outliers)\n"
      ],
      "metadata": {
        "id": "UpHUq4JlblLV",
        "outputId": "ab8d4ec4-433d-4608-ab39-736be66faf86",
        "colab": {
          "base_uri": "https://localhost:8080/"
        }
      },
      "id": "UpHUq4JlblLV",
      "execution_count": 6,
      "outputs": [
        {
          "output_type": "stream",
          "name": "stdout",
          "text": [
            "      pclass  survived                                               name  \\\n",
            "9          1         0                            Artagaveytia, Mr. Ramon   \n",
            "14         1         1               Barkworth, Mr. Algernon Henry Wilson   \n",
            "61         1         1  Cavendish, Mrs. Tyrell William (Julia Florence...   \n",
            "81         1         0                       Crosby, Capt. Edward Gifford   \n",
            "135        1         0                          Goldschmidt, Mr. George B   \n",
            "285        1         0                                 Straus, Mr. Isidor   \n",
            "506        2         0                        Mitchell, Mr. Henry Michael   \n",
            "727        3         0                               Connors, Mr. Patrick   \n",
            "1235       3         0                                Svensson, Mr. Johan   \n",
            "\n",
            "         sex   age  sibsp  parch      ticket      fare    cabin embarked boat  \\\n",
            "9       male  71.0      0      0    PC 17609   49.5042      NaN        C  NaN   \n",
            "14      male  80.0      0      0       27042   30.0000      A23        S    B   \n",
            "61    female  76.0      1      0       19877   78.8500      C46        S    6   \n",
            "81      male  70.0      1      1   WE/P 5735   71.0000      B22        S  NaN   \n",
            "135     male  71.0      0      0    PC 17754   34.6542       A5        C  NaN   \n",
            "285     male  67.0      1      0    PC 17483  221.7792  C55 C57        S  NaN   \n",
            "506     male  70.0      0      0  C.A. 24580   10.5000      NaN        S  NaN   \n",
            "727     male  70.5      0      0      370369    7.7500      NaN        Q  NaN   \n",
            "1235    male  74.0      0      0      347060    7.7750      NaN        S  NaN   \n",
            "\n",
            "       body                                     home.dest  \n",
            "9      22.0                           Montevideo, Uruguay  \n",
            "14      NaN                                 Hessle, Yorks  \n",
            "61      NaN                       Little Onn Hall, Staffs  \n",
            "81    269.0                                 Milwaukee, WI  \n",
            "135     NaN                                  New York, NY  \n",
            "285    96.0                                  New York, NY  \n",
            "506     NaN  Guernsey / Montclair, NJ and/or Toledo, Ohio  \n",
            "727   171.0                                           NaN  \n",
            "1235    NaN                                           NaN  \n"
          ]
        }
      ]
    },
    {
      "cell_type": "markdown",
      "source": [
        "ผลลัพธ์ของค่า outliers ที่พบ:\n",
        "\n",
        "- pclass: ผู้โดยสารที่มีอายุเป็น outliers ส่วนใหญ่มาจาก ชั้นโดยสารที่ 1 ยกเว้นบางคนที่มาจากชั้นโดยสารที่ 2 และ 3\n",
        "- survived: มีทั้งผู้ที่รอดชีวิตและไม่รอดชีวิต (ค่า survived = 1 หมายถึงรอดชีวิต, 0 หมายถึงไม่รอดชีวิต)\n",
        "- age: อายุที่พบว่าเป็น outliers ส่วนใหญ่เป็นผู้โดยสารที่มีอายุระหว่าง 67 ถึง 80 ปี ซึ่งสูงกว่าเกณฑ์ที่กำหนด\n",
        "- fare: ราคาค่าตั๋วมีความแตกต่างกันมาก ตั้งแต่ 7.75 หน่วยเงินไปจนถึง 221.77 หน่วยเงิน ตัวอย่างเช่น:\n",
        "Mr. Isidor Straus จ่ายค่าตั๋วสูงถึง 221.7792 หน่วยเงิน ซึ่งเป็นค่า outlier สำหรับตัวแปรนี้เช่นกัน\n",
        "- embarked: ผู้โดยสารส่วนใหญ่ที่เป็น outliers ออกจากท่าเรือ S ยกเว้นบางคนที่ออกจาก C หรือ Q\n",
        "- cabin: ข้อมูลในคอลัมน์นี้ส่วนใหญ่ขาดหายไป แต่บางคนมีห้องโดยสาร เช่น Mrs. Cavendish ที่พักอยู่ที่ C46"
      ],
      "metadata": {
        "id": "Hic4g_fAfDKG"
      },
      "id": "Hic4g_fAfDKG"
    },
    {
      "cell_type": "code",
      "source": [
        "def detect_noisy_data(df):\n",
        "    # คำนวณ IQR และตรวจสอบ noisy data สำหรับแต่ละคอลัมน์\n",
        "    for column in df.columns:\n",
        "        if pd.api.types.is_numeric_dtype(df[column]):\n",
        "            # คำนวณค่าต่าง ๆ ของ IQR\n",
        "            Q1 = df[column].quantile(0.25)\n",
        "            Q3 = df[column].quantile(0.75)\n",
        "            IQR = Q3 - Q1\n",
        "\n",
        "            # กำหนดค่าต่ำสุดและสูงสุดที่เป็นไปได้\n",
        "            lower_bound = Q1 - 1.5 * IQR\n",
        "            upper_bound = Q3 + 1.5 * IQR\n",
        "\n",
        "            # ตรวจสอบและแสดงผลลัพธ์\n",
        "            noisy_data = df[(df[column] < lower_bound) | (df[column] > upper_bound)]\n",
        "\n",
        "            if not noisy_data.empty:\n",
        "                print(f\"Noisy data detected in column '{column}':\")\n",
        "                print(noisy_data)\n",
        "            else:\n",
        "                print(f\"No noisy data detected in column '{column}'.\")"
      ],
      "metadata": {
        "id": "sznIlH0yi4xv"
      },
      "id": "sznIlH0yi4xv",
      "execution_count": 9,
      "outputs": []
    },
    {
      "cell_type": "code",
      "source": [
        "detect_noisy_data(titanic)"
      ],
      "metadata": {
        "id": "a4t2Yfm_i8x6",
        "outputId": "b448ac0b-5414-4c62-a7d1-2ade7785b119",
        "colab": {
          "base_uri": "https://localhost:8080/"
        }
      },
      "id": "a4t2Yfm_i8x6",
      "execution_count": 10,
      "outputs": [
        {
          "output_type": "stream",
          "name": "stdout",
          "text": [
            "No noisy data detected in column 'pclass'.\n",
            "No noisy data detected in column 'survived'.\n",
            "Noisy data detected in column 'age':\n",
            "      pclass  survived                                               name  \\\n",
            "9          1         0                            Artagaveytia, Mr. Ramon   \n",
            "14         1         1               Barkworth, Mr. Algernon Henry Wilson   \n",
            "61         1         1  Cavendish, Mrs. Tyrell William (Julia Florence...   \n",
            "81         1         0                       Crosby, Capt. Edward Gifford   \n",
            "135        1         0                          Goldschmidt, Mr. George B   \n",
            "285        1         0                                 Straus, Mr. Isidor   \n",
            "506        2         0                        Mitchell, Mr. Henry Michael   \n",
            "727        3         0                               Connors, Mr. Patrick   \n",
            "1235       3         0                                Svensson, Mr. Johan   \n",
            "\n",
            "         sex   age  sibsp  parch      ticket      fare    cabin embarked boat  \\\n",
            "9       male  71.0      0      0    PC 17609   49.5042      NaN        C  NaN   \n",
            "14      male  80.0      0      0       27042   30.0000      A23        S    B   \n",
            "61    female  76.0      1      0       19877   78.8500      C46        S    6   \n",
            "81      male  70.0      1      1   WE/P 5735   71.0000      B22        S  NaN   \n",
            "135     male  71.0      0      0    PC 17754   34.6542       A5        C  NaN   \n",
            "285     male  67.0      1      0    PC 17483  221.7792  C55 C57        S  NaN   \n",
            "506     male  70.0      0      0  C.A. 24580   10.5000      NaN        S  NaN   \n",
            "727     male  70.5      0      0      370369    7.7500      NaN        Q  NaN   \n",
            "1235    male  74.0      0      0      347060    7.7750      NaN        S  NaN   \n",
            "\n",
            "       body                                     home.dest  \n",
            "9      22.0                           Montevideo, Uruguay  \n",
            "14      NaN                                 Hessle, Yorks  \n",
            "61      NaN                       Little Onn Hall, Staffs  \n",
            "81    269.0                                 Milwaukee, WI  \n",
            "135     NaN                                  New York, NY  \n",
            "285    96.0                                  New York, NY  \n",
            "506     NaN  Guernsey / Montclair, NJ and/or Toledo, Ohio  \n",
            "727   171.0                                           NaN  \n",
            "1235    NaN                                           NaN  \n",
            "Noisy data detected in column 'sibsp':\n",
            "      pclass  survived                                               name  \\\n",
            "111        1         1                     Fortune, Miss. Alice Elizabeth   \n",
            "112        1         1                         Fortune, Miss. Ethel Flora   \n",
            "113        1         1                         Fortune, Miss. Mabel Helen   \n",
            "114        1         0                     Fortune, Mr. Charles Alexander   \n",
            "545        2         1        Renouf, Mrs. Peter Henry (Lillian Jefferys)   \n",
            "622        3         0            Andersson, Master. Sigvard Harald Elias   \n",
            "623        3         0                 Andersson, Miss. Ebba Iris Alfrida   \n",
            "624        3         0                  Andersson, Miss. Ellis Anna Maria   \n",
            "625        3         1                    Andersson, Miss. Erna Alexandra   \n",
            "626        3         0             Andersson, Miss. Ida Augusta Margareta   \n",
            "627        3         0               Andersson, Miss. Ingeborg Constanzia   \n",
            "628        3         0                  Andersson, Miss. Sigrid Elisabeth   \n",
            "639        3         0                        Asplund, Master. Carl Edgar   \n",
            "640        3         0              Asplund, Master. Clarence Gustaf Hugo   \n",
            "641        3         1                  Asplund, Master. Edvin Rojj Felix   \n",
            "642        3         0                       Asplund, Master. Filip Oscar   \n",
            "643        3         1                     Asplund, Miss. Lillian Gertrud   \n",
            "656        3         1  Backstrom, Mrs. Karl Alfred (Maria Mathilda Gu...   \n",
            "825        3         0                     Goodwin, Master. Harold Victor   \n",
            "826        3         0                    Goodwin, Master. Sidney Leonard   \n",
            "827        3         0                 Goodwin, Master. William Frederick   \n",
            "828        3         0                        Goodwin, Miss. Jessie Allis   \n",
            "829        3         0                         Goodwin, Miss. Lillian Amy   \n",
            "830        3         0                        Goodwin, Mr. Charles Edward   \n",
            "935        3         1                           Kink-Heilmann, Mr. Anton   \n",
            "954        3         0                      Lefebre, Master. Henry Forbes   \n",
            "955        3         0                                 Lefebre, Miss. Ida   \n",
            "956        3         0                             Lefebre, Miss. Jeannie   \n",
            "957        3         0                            Lefebre, Miss. Mathilde   \n",
            "1096       3         0                     Palsson, Master. Gosta Leonard   \n",
            "1097       3         0                        Palsson, Master. Paul Folke   \n",
            "1098       3         0                         Palsson, Miss. Stina Viola   \n",
            "1099       3         0                      Palsson, Miss. Torborg Danira   \n",
            "1101       3         0                       Panula, Master. Eino Viljami   \n",
            "1102       3         0                         Panula, Master. Juha Niilo   \n",
            "1103       3         0                       Panula, Master. Urho Abraham   \n",
            "1104       3         0                          Panula, Mr. Ernesti Arvid   \n",
            "1105       3         0                           Panula, Mr. Jaako Arnold   \n",
            "1141       3         0                               Rice, Master. Albert   \n",
            "1142       3         0                               Rice, Master. Arthur   \n",
            "1143       3         0                                 Rice, Master. Eric   \n",
            "1144       3         0                               Rice, Master. Eugene   \n",
            "1145       3         0                          Rice, Master. George Hugh   \n",
            "1170       3         0                         Sage, Master. Thomas Henry   \n",
            "1171       3         0                        Sage, Master. William Henry   \n",
            "1172       3         0                                    Sage, Miss. Ada   \n",
            "1173       3         0                       Sage, Miss. Constance Gladys   \n",
            "1174       3         0                  Sage, Miss. Dorothy Edith \"Dolly\"   \n",
            "1175       3         0                            Sage, Miss. Stella Anna   \n",
            "1176       3         0                           Sage, Mr. Douglas Bullen   \n",
            "1177       3         0                                Sage, Mr. Frederick   \n",
            "1178       3         0                           Sage, Mr. George John Jr   \n",
            "1206       3         0                              Skoog, Master. Harald   \n",
            "1207       3         0                       Skoog, Master. Karl Thorsten   \n",
            "1208       3         0                                 Skoog, Miss. Mabel   \n",
            "1209       3         0                      Skoog, Miss. Margit Elizabeth   \n",
            "1274       3         0                          Vander Planke, Mr. Julius   \n",
            "\n",
            "         sex   age  sibsp  parch    ticket      fare        cabin embarked  \\\n",
            "111   female  24.0      3      2     19950  263.0000  C23 C25 C27        S   \n",
            "112   female  28.0      3      2     19950  263.0000  C23 C25 C27        S   \n",
            "113   female  23.0      3      2     19950  263.0000  C23 C25 C27        S   \n",
            "114     male  19.0      3      2     19950  263.0000  C23 C25 C27        S   \n",
            "545   female  30.0      3      0     31027   21.0000          NaN        S   \n",
            "622     male   4.0      4      2    347082   31.2750          NaN        S   \n",
            "623   female   6.0      4      2    347082   31.2750          NaN        S   \n",
            "624   female   2.0      4      2    347082   31.2750          NaN        S   \n",
            "625   female  17.0      4      2   3101281    7.9250          NaN        S   \n",
            "626   female  38.0      4      2    347091    7.7750          NaN        S   \n",
            "627   female   9.0      4      2    347082   31.2750          NaN        S   \n",
            "628   female  11.0      4      2    347082   31.2750          NaN        S   \n",
            "639     male   5.0      4      2    347077   31.3875          NaN        S   \n",
            "640     male   9.0      4      2    347077   31.3875          NaN        S   \n",
            "641     male   3.0      4      2    347077   31.3875          NaN        S   \n",
            "642     male  13.0      4      2    347077   31.3875          NaN        S   \n",
            "643   female   5.0      4      2    347077   31.3875          NaN        S   \n",
            "656   female  33.0      3      0   3101278   15.8500          NaN        S   \n",
            "825     male   9.0      5      2   CA 2144   46.9000          NaN        S   \n",
            "826     male   1.0      5      2   CA 2144   46.9000          NaN        S   \n",
            "827     male  11.0      5      2   CA 2144   46.9000          NaN        S   \n",
            "828   female  10.0      5      2   CA 2144   46.9000          NaN        S   \n",
            "829   female  16.0      5      2   CA 2144   46.9000          NaN        S   \n",
            "830     male  14.0      5      2   CA 2144   46.9000          NaN        S   \n",
            "935     male  29.0      3      1    315153   22.0250          NaN        S   \n",
            "954     male   NaN      3      1      4133   25.4667          NaN        S   \n",
            "955   female   NaN      3      1      4133   25.4667          NaN        S   \n",
            "956   female   NaN      3      1      4133   25.4667          NaN        S   \n",
            "957   female   NaN      3      1      4133   25.4667          NaN        S   \n",
            "1096    male   2.0      3      1    349909   21.0750          NaN        S   \n",
            "1097    male   6.0      3      1    349909   21.0750          NaN        S   \n",
            "1098  female   3.0      3      1    349909   21.0750          NaN        S   \n",
            "1099  female   8.0      3      1    349909   21.0750          NaN        S   \n",
            "1101    male   1.0      4      1   3101295   39.6875          NaN        S   \n",
            "1102    male   7.0      4      1   3101295   39.6875          NaN        S   \n",
            "1103    male   2.0      4      1   3101295   39.6875          NaN        S   \n",
            "1104    male  16.0      4      1   3101295   39.6875          NaN        S   \n",
            "1105    male  14.0      4      1   3101295   39.6875          NaN        S   \n",
            "1141    male  10.0      4      1    382652   29.1250          NaN        Q   \n",
            "1142    male   4.0      4      1    382652   29.1250          NaN        Q   \n",
            "1143    male   7.0      4      1    382652   29.1250          NaN        Q   \n",
            "1144    male   2.0      4      1    382652   29.1250          NaN        Q   \n",
            "1145    male   8.0      4      1    382652   29.1250          NaN        Q   \n",
            "1170    male   NaN      8      2  CA. 2343   69.5500          NaN        S   \n",
            "1171    male  14.5      8      2  CA. 2343   69.5500          NaN        S   \n",
            "1172  female   NaN      8      2  CA. 2343   69.5500          NaN        S   \n",
            "1173  female   NaN      8      2  CA. 2343   69.5500          NaN        S   \n",
            "1174  female   NaN      8      2  CA. 2343   69.5500          NaN        S   \n",
            "1175  female   NaN      8      2  CA. 2343   69.5500          NaN        S   \n",
            "1176    male   NaN      8      2  CA. 2343   69.5500          NaN        S   \n",
            "1177    male   NaN      8      2  CA. 2343   69.5500          NaN        S   \n",
            "1178    male   NaN      8      2  CA. 2343   69.5500          NaN        S   \n",
            "1206    male   4.0      3      2    347088   27.9000          NaN        S   \n",
            "1207    male  10.0      3      2    347088   27.9000          NaN        S   \n",
            "1208  female   9.0      3      2    347088   27.9000          NaN        S   \n",
            "1209  female   2.0      3      2    347088   27.9000          NaN        S   \n",
            "1274    male  31.0      3      0    345763   18.0000          NaN        S   \n",
            "\n",
            "     boat  body                             home.dest  \n",
            "111    10   NaN                          Winnipeg, MB  \n",
            "112    10   NaN                          Winnipeg, MB  \n",
            "113    10   NaN                          Winnipeg, MB  \n",
            "114   NaN   NaN                          Winnipeg, MB  \n",
            "545   NaN   NaN                         Elizabeth, NJ  \n",
            "622   NaN   NaN                   Sweden Winnipeg, MN  \n",
            "623   NaN   NaN                   Sweden Winnipeg, MN  \n",
            "624   NaN   NaN                   Sweden Winnipeg, MN  \n",
            "625     D   NaN  Ruotsinphyhtaa, Finland New York, NY  \n",
            "626   NaN   NaN          Vadsbro, Sweden Ministee, MI  \n",
            "627   NaN   NaN                   Sweden Winnipeg, MN  \n",
            "628   NaN   NaN                   Sweden Winnipeg, MN  \n",
            "639   NaN   NaN                 Sweden  Worcester, MA  \n",
            "640   NaN   NaN                  Sweden Worcester, MA  \n",
            "641    15   NaN                  Sweden Worcester, MA  \n",
            "642   NaN   NaN                  Sweden Worcester, MA  \n",
            "643    15   NaN                  Sweden Worcester, MA  \n",
            "656   NaN   NaN   Ruotsinphytaa, Finland New York, NY  \n",
            "825   NaN   NaN  Wiltshire, England Niagara Falls, NY  \n",
            "826   NaN   NaN  Wiltshire, England Niagara Falls, NY  \n",
            "827   NaN   NaN  Wiltshire, England Niagara Falls, NY  \n",
            "828   NaN   NaN  Wiltshire, England Niagara Falls, NY  \n",
            "829   NaN   NaN  Wiltshire, England Niagara Falls, NY  \n",
            "830   NaN   NaN  Wiltshire, England Niagara Falls, NY  \n",
            "935     2   NaN                                   NaN  \n",
            "954   NaN   NaN                                   NaN  \n",
            "955   NaN   NaN                                   NaN  \n",
            "956   NaN   NaN                                   NaN  \n",
            "957   NaN   NaN                                   NaN  \n",
            "1096  NaN   4.0                                   NaN  \n",
            "1097  NaN   NaN                                   NaN  \n",
            "1098  NaN   NaN                                   NaN  \n",
            "1099  NaN   NaN                                   NaN  \n",
            "1101  NaN   NaN                                   NaN  \n",
            "1102  NaN   NaN                                   NaN  \n",
            "1103  NaN   NaN                                   NaN  \n",
            "1104  NaN   NaN                                   NaN  \n",
            "1105  NaN   NaN                                   NaN  \n",
            "1141  NaN   NaN                                   NaN  \n",
            "1142  NaN   NaN                                   NaN  \n",
            "1143  NaN   NaN                                   NaN  \n",
            "1144  NaN   NaN                                   NaN  \n",
            "1145  NaN   NaN                                   NaN  \n",
            "1170  NaN   NaN                                   NaN  \n",
            "1171  NaN  67.0                                   NaN  \n",
            "1172  NaN   NaN                                   NaN  \n",
            "1173  NaN   NaN                                   NaN  \n",
            "1174  NaN   NaN                                   NaN  \n",
            "1175  NaN   NaN                                   NaN  \n",
            "1176  NaN   NaN                                   NaN  \n",
            "1177  NaN   NaN                                   NaN  \n",
            "1178  NaN   NaN                                   NaN  \n",
            "1206  NaN   NaN                                   NaN  \n",
            "1207  NaN   NaN                                   NaN  \n",
            "1208  NaN   NaN                                   NaN  \n",
            "1209  NaN   NaN                                   NaN  \n",
            "1274  NaN   NaN                                   NaN  \n",
            "Noisy data detected in column 'parch':\n",
            "      pclass  survived                                               name  \\\n",
            "1          1         1                     Allison, Master. Hudson Trevor   \n",
            "2          1         0                       Allison, Miss. Helen Loraine   \n",
            "3          1         0               Allison, Mr. Hudson Joshua Creighton   \n",
            "4          1         0    Allison, Mrs. Hudson J C (Bessie Waldo Daniels)   \n",
            "16         1         0                           Baxter, Mr. Quigg Edmond   \n",
            "...      ...       ...                                                ...   \n",
            "1263       3         0                  van Billiard, Master. Walter John   \n",
            "1264       3         0                    van Billiard, Mr. Austin Blyler   \n",
            "1265       3         0                          Van Impe, Miss. Catharina   \n",
            "1266       3         0                        Van Impe, Mr. Jean Baptiste   \n",
            "1267       3         0  Van Impe, Mrs. Jean Baptiste (Rosalie Paula Go...   \n",
            "\n",
            "         sex      age  sibsp  parch    ticket      fare    cabin embarked  \\\n",
            "1       male   0.9167      1      2    113781  151.5500  C22 C26        S   \n",
            "2     female   2.0000      1      2    113781  151.5500  C22 C26        S   \n",
            "3       male  30.0000      1      2    113781  151.5500  C22 C26        S   \n",
            "4     female  25.0000      1      2    113781  151.5500  C22 C26        S   \n",
            "16      male  24.0000      0      1  PC 17558  247.5208  B58 B60        C   \n",
            "...      ...      ...    ...    ...       ...       ...      ...      ...   \n",
            "1263    male  11.5000      1      1  A/5. 851   14.5000      NaN        S   \n",
            "1264    male  40.5000      0      2  A/5. 851   14.5000      NaN        S   \n",
            "1265  female  10.0000      0      2    345773   24.1500      NaN        S   \n",
            "1266    male  36.0000      1      1    345773   24.1500      NaN        S   \n",
            "1267  female  30.0000      1      1    345773   24.1500      NaN        S   \n",
            "\n",
            "     boat   body                        home.dest  \n",
            "1      11    NaN  Montreal, PQ / Chesterville, ON  \n",
            "2     NaN    NaN  Montreal, PQ / Chesterville, ON  \n",
            "3     NaN  135.0  Montreal, PQ / Chesterville, ON  \n",
            "4     NaN    NaN  Montreal, PQ / Chesterville, ON  \n",
            "16    NaN    NaN                     Montreal, PQ  \n",
            "...   ...    ...                              ...  \n",
            "1263  NaN    1.0                              NaN  \n",
            "1264  NaN  255.0                              NaN  \n",
            "1265  NaN    NaN                              NaN  \n",
            "1266  NaN    NaN                              NaN  \n",
            "1267  NaN    NaN                              NaN  \n",
            "\n",
            "[307 rows x 14 columns]\n",
            "Noisy data detected in column 'fare':\n",
            "      pclass  survived                                             name  \\\n",
            "0          1         1                    Allen, Miss. Elisabeth Walton   \n",
            "1          1         1                   Allison, Master. Hudson Trevor   \n",
            "2          1         0                     Allison, Miss. Helen Loraine   \n",
            "3          1         0             Allison, Mr. Hudson Joshua Creighton   \n",
            "4          1         0  Allison, Mrs. Hudson J C (Bessie Waldo Daniels)   \n",
            "...      ...       ...                                              ...   \n",
            "1176       3         0                         Sage, Mr. Douglas Bullen   \n",
            "1177       3         0                              Sage, Mr. Frederick   \n",
            "1178       3         0                         Sage, Mr. George John Jr   \n",
            "1179       3         0                            Sage, Mr. John George   \n",
            "1180       3         0                   Sage, Mrs. John (Annie Bullen)   \n",
            "\n",
            "         sex      age  sibsp  parch    ticket      fare    cabin embarked  \\\n",
            "0     female  29.0000      0      0     24160  211.3375       B5        S   \n",
            "1       male   0.9167      1      2    113781  151.5500  C22 C26        S   \n",
            "2     female   2.0000      1      2    113781  151.5500  C22 C26        S   \n",
            "3       male  30.0000      1      2    113781  151.5500  C22 C26        S   \n",
            "4     female  25.0000      1      2    113781  151.5500  C22 C26        S   \n",
            "...      ...      ...    ...    ...       ...       ...      ...      ...   \n",
            "1176    male      NaN      8      2  CA. 2343   69.5500      NaN        S   \n",
            "1177    male      NaN      8      2  CA. 2343   69.5500      NaN        S   \n",
            "1178    male      NaN      8      2  CA. 2343   69.5500      NaN        S   \n",
            "1179    male      NaN      1      9  CA. 2343   69.5500      NaN        S   \n",
            "1180  female      NaN      1      9  CA. 2343   69.5500      NaN        S   \n",
            "\n",
            "     boat   body                        home.dest  \n",
            "0       2    NaN                     St Louis, MO  \n",
            "1      11    NaN  Montreal, PQ / Chesterville, ON  \n",
            "2     NaN    NaN  Montreal, PQ / Chesterville, ON  \n",
            "3     NaN  135.0  Montreal, PQ / Chesterville, ON  \n",
            "4     NaN    NaN  Montreal, PQ / Chesterville, ON  \n",
            "...   ...    ...                              ...  \n",
            "1176  NaN    NaN                              NaN  \n",
            "1177  NaN    NaN                              NaN  \n",
            "1178  NaN    NaN                              NaN  \n",
            "1179  NaN    NaN                              NaN  \n",
            "1180  NaN    NaN                              NaN  \n",
            "\n",
            "[171 rows x 14 columns]\n",
            "No noisy data detected in column 'body'.\n"
          ]
        }
      ]
    },
    {
      "cell_type": "markdown",
      "source": [
        "จากผลลัพธ์ข้างต้นจะเห็นได้ว่าตรวจพบ noisy data : Noisy data detected in column 'age', Noisy data detected in column 'sibsp', Noisy data detected in column 'parch', Noisy data detected in column 'fare'"
      ],
      "metadata": {
        "id": "Hq6gaUZxjInu"
      },
      "id": "Hq6gaUZxjInu"
    },
    {
      "cell_type": "markdown",
      "id": "f47f1535",
      "metadata": {
        "id": "f47f1535"
      },
      "source": [
        "* (10 points) จากข้อมูลที่ให้มา เตรียมข้อมูลให้พร้อมโดยการจัดการกับค่าว่างในข้อมูล ให้อธิบายวิธีที่ท่านเลือกใช้ พร้อมยกเหตุผลประกอบ"
      ]
    },
    {
      "cell_type": "markdown",
      "source": [
        "Answer : เติมค่าว่างด้วยค่าที่เหมาะสม: เช่น ค่ากลาง (mean), ค่ามัธยฐาน (median), ค่าที่เกิดขึ้นบ่อยที่สุด (mode) หรือค่าคงที่ การเลือกค่าที่จะเติมนั้นขึ้นอยู่กับประเภทข้อมูลและความเหมาะสม\n",
        "\n",
        "สำหรับข้อมูลตัวเลข (numerical data) จะใช้ค่าเฉลี่ยหรือค่ามัธยฐาน\n",
        "สำหรับข้อมูลประเภทข้อความ (categorical data) จะใช้ค่า mode หรือค่าที่เกิดขึ้นบ่อยที่สุด\n",
        "เหตุผลที่เลือกใช้วิธีนี้เพราะว่า Missing values มีค่าเยอะมากจนทำให้เสียข้อมูลไปเยอะมากๆ จึงเลือกใช้วิธีนี้แทน"
      ],
      "metadata": {
        "id": "rEA_nR1g88dW"
      },
      "id": "rEA_nR1g88dW"
    },
    {
      "cell_type": "code",
      "source": [
        "# เติมค่าว่างสำหรับข้อมูลตัวเลขด้วยค่าเฉลี่ย (mean)\n",
        "for column in titanic.select_dtypes(include=['float64', 'int64']).columns:\n",
        "    mean_value = titanic[column].mean()\n",
        "    titanic[column].fillna(mean_value, inplace=True)"
      ],
      "metadata": {
        "id": "WlC7xIwT-BB6"
      },
      "id": "WlC7xIwT-BB6",
      "execution_count": 12,
      "outputs": []
    },
    {
      "cell_type": "code",
      "source": [
        "# เติมค่าว่างสำหรับข้อมูลประเภทข้อความด้วยค่า mode\n",
        "for column in titanic.select_dtypes(include=['object']).columns:\n",
        "    mode_value = titanic[column].mode()[0]\n",
        "    titanic[column].fillna(mode_value, inplace=True)"
      ],
      "metadata": {
        "id": "UURNTaIi-NNU"
      },
      "id": "UURNTaIi-NNU",
      "execution_count": 13,
      "outputs": []
    },
    {
      "cell_type": "code",
      "source": [
        "print(titanic.head())"
      ],
      "metadata": {
        "colab": {
          "base_uri": "https://localhost:8080/"
        },
        "id": "7c35alQx-VRC",
        "outputId": "557e1242-6abd-447d-da69-9ff10203e3a6"
      },
      "id": "7c35alQx-VRC",
      "execution_count": 14,
      "outputs": [
        {
          "output_type": "stream",
          "name": "stdout",
          "text": [
            "   pclass  survived                                             name     sex  \\\n",
            "0       1         1                    Allen, Miss. Elisabeth Walton  female   \n",
            "1       1         1                   Allison, Master. Hudson Trevor    male   \n",
            "2       1         0                     Allison, Miss. Helen Loraine  female   \n",
            "3       1         0             Allison, Mr. Hudson Joshua Creighton    male   \n",
            "4       1         0  Allison, Mrs. Hudson J C (Bessie Waldo Daniels)  female   \n",
            "\n",
            "       age  sibsp  parch  ticket      fare    cabin embarked boat        body  \\\n",
            "0  29.0000      0      0   24160  211.3375       B5        S    2  160.809917   \n",
            "1   0.9167      1      2  113781  151.5500  C22 C26        S   11  160.809917   \n",
            "2   2.0000      1      2  113781  151.5500  C22 C26        S   13  160.809917   \n",
            "3  30.0000      1      2  113781  151.5500  C22 C26        S   13  135.000000   \n",
            "4  25.0000      1      2  113781  151.5500  C22 C26        S   13  160.809917   \n",
            "\n",
            "                         home.dest  \n",
            "0                     St Louis, MO  \n",
            "1  Montreal, PQ / Chesterville, ON  \n",
            "2  Montreal, PQ / Chesterville, ON  \n",
            "3  Montreal, PQ / Chesterville, ON  \n",
            "4  Montreal, PQ / Chesterville, ON  \n"
          ]
        }
      ]
    },
    {
      "cell_type": "markdown",
      "id": "6f488b3f",
      "metadata": {
        "id": "6f488b3f"
      },
      "source": [
        "* แปลงข้อมูลเชิงคุณภาพให้เป็นตัวเลข \\\n",
        "    i. (10 points) ใช้ one-hot encoding ในการแปลงตัวแปร Embarked \\\n",
        "    ii. (10 points) แปลงตัวแปร Sex โดยให้เพศชายเป็น 0 และเพศหญิงเป็น 1 \\\n",
        "    iii. (10 points) สร้างตัวแปร FamilySize ซึ่งเป็นผลรวมของตัวแปร SibSp (number of siblings/spouses aboard) และ Parch (number of parents/children aboard) \\\n",
        "    iv. (10 points) สร้างตัวแปร IsAlone ซึ่งมีค่าเป็น 1 ถ้า FamilySize เป็น 0, และมีค่าเป็นศูนย์เมื่อเป็นอื่น"
      ]
    },
    {
      "cell_type": "code",
      "execution_count": 42,
      "id": "ed335c3c",
      "metadata": {
        "id": "ed335c3c"
      },
      "outputs": [],
      "source": [
        "#i. (10 points) ใช้ one-hot encoding ในการแปลงตัวแปร Embarked\n",
        "df = pd.get_dummies(titanic, columns=['embarked'], drop_first=True)"
      ]
    },
    {
      "cell_type": "code",
      "source": [
        "#ii. (10 points) แปลงตัวแปร Sex โดยให้เพศชายเป็น 0 และเพศหญิงเป็น 1\n",
        "df['sex'] = df['sex'].map({'male': 0, 'female': 1})"
      ],
      "metadata": {
        "id": "VMZcGGmb_Mth"
      },
      "id": "VMZcGGmb_Mth",
      "execution_count": 43,
      "outputs": []
    },
    {
      "cell_type": "code",
      "source": [
        "#iii. (10 points) สร้างตัวแปร FamilySize ซึ่งเป็นผลรวมของตัวแปร SibSp (number of siblings/spouses aboard) และ Parch (number of parents/children aboard)\n",
        "df['FamilySize'] = df['sibsp'] + df['parch']"
      ],
      "metadata": {
        "id": "XHKav32B_OON"
      },
      "id": "XHKav32B_OON",
      "execution_count": 44,
      "outputs": []
    },
    {
      "cell_type": "code",
      "source": [
        "# iv. (10 points) สร้างตัวแปร IsAlone ซึ่งมีค่าเป็น 1 ถ้า FamilySize เป็น 0, และมีค่าเป็นศูนย์เมื่อเป็นอื่น\n",
        "df['IsAlone'] = df['FamilySize'].apply(lambda x: 1 if x == 0 else 0)"
      ],
      "metadata": {
        "id": "cZub_8WpAVGs"
      },
      "id": "cZub_8WpAVGs",
      "execution_count": 46,
      "outputs": []
    },
    {
      "cell_type": "code",
      "source": [
        "print(df[['sex', 'FamilySize', 'IsAlone'] + [col for col in df.columns if 'embarked' in col]])"
      ],
      "metadata": {
        "colab": {
          "base_uri": "https://localhost:8080/"
        },
        "id": "xF36vGU5_Xs_",
        "outputId": "172138a3-12da-4c06-b28d-fa5323672851"
      },
      "id": "xF36vGU5_Xs_",
      "execution_count": 47,
      "outputs": [
        {
          "output_type": "stream",
          "name": "stdout",
          "text": [
            "      sex  FamilySize  IsAlone  embarked_Q  embarked_S\n",
            "0       1           0        1       False        True\n",
            "1       0           3        0       False        True\n",
            "2       1           3        0       False        True\n",
            "3       0           3        0       False        True\n",
            "4       1           3        0       False        True\n",
            "...   ...         ...      ...         ...         ...\n",
            "1304    1           1        0       False       False\n",
            "1305    1           1        0       False       False\n",
            "1306    0           0        1       False       False\n",
            "1307    0           0        1       False       False\n",
            "1308    0           0        1       False        True\n",
            "\n",
            "[1309 rows x 5 columns]\n"
          ]
        }
      ]
    },
    {
      "cell_type": "markdown",
      "id": "63740426",
      "metadata": {
        "id": "63740426"
      },
      "source": [
        "* ทำการ Normalize ข้อมูล \\\n",
        "    i. (10 points) ตัวแปร Fare และ Age ใช้ Min-Max Scaling \\\n",
        "    ii. (10 points) สร้างตัวแปรใหม่ Fare_Per_Person ด้วยการนำตัวแปร Fare มาหารด้วย FamilySize + 1 \\\n",
        "    iii. (10 points) สร้างตัวแปร AgeGroup ที่ระบุกลุ่มอายุของตัวอย่าง โดยแบ่งเป็นกลุ่มดังนี้ [0, 12), [12, 18), [18, 50) และ [50, 100)"
      ]
    },
    {
      "cell_type": "code",
      "source": [
        "import pandas as pd\n",
        "import numpy as np\n",
        "pd.cut(np.array([1, 7, 5, 4, 6, 3]), 3)"
      ],
      "metadata": {
        "colab": {
          "base_uri": "https://localhost:8080/"
        },
        "id": "2CAW4T4MbE9x",
        "outputId": "8dfefeb7-cc4a-4dab-872a-cc06ebc14b14"
      },
      "id": "2CAW4T4MbE9x",
      "execution_count": 26,
      "outputs": [
        {
          "output_type": "execute_result",
          "data": {
            "text/plain": [
              "[(0.994, 3.0], (5.0, 7.0], (3.0, 5.0], (3.0, 5.0], (5.0, 7.0], (0.994, 3.0]]\n",
              "Categories (3, interval[float64, right]): [(0.994, 3.0] < (3.0, 5.0] < (5.0, 7.0]]"
            ]
          },
          "metadata": {},
          "execution_count": 26
        }
      ]
    },
    {
      "cell_type": "code",
      "source": [
        "pd.cut(np.array([1, 7, 5, 4, 6, 3]), [0,2,5,8])"
      ],
      "metadata": {
        "colab": {
          "base_uri": "https://localhost:8080/"
        },
        "id": "Weusw3ZebJHI",
        "outputId": "1c366b0e-8442-4c44-a214-4a3a17fd91ae"
      },
      "id": "Weusw3ZebJHI",
      "execution_count": 27,
      "outputs": [
        {
          "output_type": "execute_result",
          "data": {
            "text/plain": [
              "[(0, 2], (5, 8], (2, 5], (2, 5], (5, 8], (2, 5]]\n",
              "Categories (3, interval[int64, right]): [(0, 2] < (2, 5] < (5, 8]]"
            ]
          },
          "metadata": {},
          "execution_count": 27
        }
      ]
    },
    {
      "cell_type": "code",
      "execution_count": 28,
      "id": "67e40193",
      "metadata": {
        "id": "67e40193"
      },
      "outputs": [],
      "source": [
        "from sklearn.preprocessing import MinMaxScaler"
      ]
    },
    {
      "cell_type": "code",
      "source": [
        "#i. (10 points) ตัวแปร Fare และ Age ใช้ Min-Max Scaling\n",
        "scaler = MinMaxScaler()\n",
        "df[['age', 'fare']] = scaler.fit_transform(titanic[['age', 'fare']])"
      ],
      "metadata": {
        "id": "uQxzvmyB_0zu"
      },
      "id": "uQxzvmyB_0zu",
      "execution_count": 64,
      "outputs": []
    },
    {
      "cell_type": "code",
      "source": [
        "#ii. (10 points) สร้างตัวแปรใหม่ Fare_Per_Person ด้วยการนำตัวแปร Fare มาหารด้วย FamilySize + 1\n",
        "df['Fare_Per_Person'] = df['fare'] / (df['FamilySize'] + 1)"
      ],
      "metadata": {
        "id": "XKwPg1WEBPcf"
      },
      "id": "XKwPg1WEBPcf",
      "execution_count": 65,
      "outputs": []
    },
    {
      "cell_type": "code",
      "source": [
        "#iii. (10 points) สร้างตัวแปร AgeGroup ที่ระบุกลุ่มอายุของตัวอย่าง โดยแบ่งเป็นกลุ่มดังนี้ [0, 12), [12, 18), [18, 50) และ [50, 100)\n",
        "df['AgeGroup'] = pd.cut(df['age'], bins=[0, 12, 18, 50, 100], labels=['Child', 'Teenager', 'Adult', 'Senior'])"
      ],
      "metadata": {
        "id": "BX4yYKKIBTpR"
      },
      "id": "BX4yYKKIBTpR",
      "execution_count": 66,
      "outputs": []
    },
    {
      "cell_type": "code",
      "source": [
        "print(df[['fare', 'age', 'Fare_Per_Person', 'AgeGroup']])"
      ],
      "metadata": {
        "colab": {
          "base_uri": "https://localhost:8080/"
        },
        "id": "QVjSPun8BwLF",
        "outputId": "92a0419d-3b24-4f73-d2ca-b27f7770beb9"
      },
      "id": "QVjSPun8BwLF",
      "execution_count": 67,
      "outputs": [
        {
          "output_type": "stream",
          "name": "stdout",
          "text": [
            "          fare       age  Fare_Per_Person AgeGroup\n",
            "0     0.412503  0.361169         0.412503    Child\n",
            "1     0.295806  0.009395         0.073951    Child\n",
            "2     0.295806  0.022964         0.073951    Child\n",
            "3     0.295806  0.373695         0.073951    Child\n",
            "4     0.295806  0.311064         0.073951    Child\n",
            "...        ...       ...              ...      ...\n",
            "1304  0.028213  0.179540         0.014106    Child\n",
            "1305  0.028213  0.372206         0.014106    Child\n",
            "1306  0.014102  0.329854         0.014102    Child\n",
            "1307  0.014102  0.336117         0.014102    Child\n",
            "1308  0.015371  0.361169         0.015371    Child\n",
            "\n",
            "[1309 rows x 4 columns]\n"
          ]
        }
      ]
    },
    {
      "cell_type": "markdown",
      "id": "36f92939",
      "metadata": {
        "id": "36f92939"
      },
      "source": [
        "* (10 points) นำเสนอการแจกแจงหรือทำความเข้าใจตัวแปรสำคัญในข้อมูล เช่น Age, Fare, and Pclass ด้วยการสร้างฮิสโตแกรมหรือแผนภาพกล่อง"
      ]
    },
    {
      "cell_type": "code",
      "execution_count": 68,
      "id": "1a1c4bd9",
      "metadata": {
        "id": "1a1c4bd9"
      },
      "outputs": [],
      "source": [
        "# เติมค่าว่างสำหรับตัวแปร Age และ Fare ด้วยค่าเฉลี่ย\n",
        "titanic['age'].fillna(titanic['age'].mean(), inplace=True)\n",
        "titanic['fare'].fillna(titanic['fare'].mean(), inplace=True)"
      ]
    },
    {
      "cell_type": "code",
      "source": [
        "# สร้างแผนภูมิ\n",
        "plt.figure(figsize=(15, 5))"
      ],
      "metadata": {
        "colab": {
          "base_uri": "https://localhost:8080/",
          "height": 52
        },
        "id": "bIcWmt-IC7wg",
        "outputId": "9d00770c-de54-48bd-b673-5c6e84b28703"
      },
      "id": "bIcWmt-IC7wg",
      "execution_count": 69,
      "outputs": [
        {
          "output_type": "execute_result",
          "data": {
            "text/plain": [
              "<Figure size 1500x500 with 0 Axes>"
            ]
          },
          "metadata": {},
          "execution_count": 69
        },
        {
          "output_type": "display_data",
          "data": {
            "text/plain": [
              "<Figure size 1500x500 with 0 Axes>"
            ]
          },
          "metadata": {}
        }
      ]
    },
    {
      "cell_type": "code",
      "source": [
        "# ฮิสโตแกรมสำหรับตัวแปร Age\n",
        "plt.subplot(1, 3, 1)\n",
        "plt.hist(titanic['age'], bins=30, color='blue', edgecolor='black', alpha=0.7)\n",
        "plt.title('Distribution of Age')\n",
        "plt.xlabel('Age')\n",
        "plt.ylabel('Frequency')"
      ],
      "metadata": {
        "colab": {
          "base_uri": "https://localhost:8080/",
          "height": 489
        },
        "id": "tWvJSLfdC9hh",
        "outputId": "c965ec75-5bad-4bdd-c28d-92f9a3738bea"
      },
      "id": "tWvJSLfdC9hh",
      "execution_count": 72,
      "outputs": [
        {
          "output_type": "execute_result",
          "data": {
            "text/plain": [
              "Text(0, 0.5, 'Frequency')"
            ]
          },
          "metadata": {},
          "execution_count": 72
        },
        {
          "output_type": "display_data",
          "data": {
            "text/plain": [
              "<Figure size 640x480 with 1 Axes>"
            ],
            "image/png": "[encoded data removed]"
          },
          "metadata": {}
        }
      ]
    },
    {
      "cell_type": "code",
      "source": [
        "# ฮิสโตแกรมสำหรับตัวแปร Fare\n",
        "plt.subplot(1, 3, 2)\n",
        "plt.hist(titanic['fare'], bins=30, color='green', edgecolor='black', alpha=0.7)\n",
        "plt.title('Distribution of Fare')\n",
        "plt.xlabel('Fare')\n",
        "plt.ylabel('Frequency')"
      ],
      "metadata": {
        "colab": {
          "base_uri": "https://localhost:8080/",
          "height": 489
        },
        "id": "ogALuz3HDWc3",
        "outputId": "3b9cf0c9-de38-4ba7-fb70-694a967018c5"
      },
      "id": "ogALuz3HDWc3",
      "execution_count": 73,
      "outputs": [
        {
          "output_type": "execute_result",
          "data": {
            "text/plain": [
              "Text(0, 0.5, 'Frequency')"
            ]
          },
          "metadata": {},
          "execution_count": 73
        },
        {
          "output_type": "display_data",
          "data": {
            "text/plain": [
              "<Figure size 640x480 with 1 Axes>"
            ],
            "image/png": "[encoded data removed]"
          },
          "metadata": {}
        }
      ]
    },
    {
      "cell_type": "code",
      "source": [
        "# ฮิสโตแกรมสำหรับตัวแปร Pclass\n",
        "plt.subplot(1, 3, 3)\n",
        "plt.hist(titanic['pclass'], bins=3, color='purple', edgecolor='black', alpha=0.7)\n",
        "plt.title('Distribution of Pclass')\n",
        "plt.xlabel('Pclass')\n",
        "plt.ylabel('Frequency')\n",
        "plt.tight_layout()\n",
        "plt.show()"
      ],
      "metadata": {
        "colab": {
          "base_uri": "https://localhost:8080/",
          "height": 487
        },
        "id": "2oI00gzFDedL",
        "outputId": "359c3737-cce2-416c-9003-0cdc2236628b"
      },
      "id": "2oI00gzFDedL",
      "execution_count": 84,
      "outputs": [
        {
          "output_type": "display_data",
          "data": {
            "text/plain": [
              "<Figure size 640x480 with 1 Axes>"
            ],
            "image/png": "[encoded data removed]"
          },
          "metadata": {}
        }
      ]
    },
    {
      "cell_type": "code",
      "source": [
        "# สร้างแผนภาพกล่อง (Box Plot)\n",
        "plt.figure(figsize=(15, 5))"
      ],
      "metadata": {
        "colab": {
          "base_uri": "https://localhost:8080/",
          "height": 52
        },
        "id": "cs3h_8rRDklH",
        "outputId": "fbfc3c95-fce7-40cf-e55b-3606153d07ba"
      },
      "id": "cs3h_8rRDklH",
      "execution_count": 76,
      "outputs": [
        {
          "output_type": "execute_result",
          "data": {
            "text/plain": [
              "<Figure size 1500x500 with 0 Axes>"
            ]
          },
          "metadata": {},
          "execution_count": 76
        },
        {
          "output_type": "display_data",
          "data": {
            "text/plain": [
              "<Figure size 1500x500 with 0 Axes>"
            ]
          },
          "metadata": {}
        }
      ]
    },
    {
      "cell_type": "code",
      "source": [
        "# แผนภาพกล่องสำหรับตัวแปร Age แยกตาม Pclass\n",
        "plt.subplot(1, 3, 1)\n",
        "titanic.boxplot(column='age', by='pclass')\n",
        "plt.title('Box Plot of Age by Pclass')\n",
        "plt.suptitle('')  # ซ่อนหัวข้อหลักที่ซ้ำกัน\n",
        "plt.xlabel('Pclass')\n",
        "plt.ylabel('Age')"
      ],
      "metadata": {
        "colab": {
          "base_uri": "https://localhost:8080/",
          "height": 897
        },
        "id": "I3nanUcSDmFX",
        "outputId": "d5bd3248-7351-47fd-9152-937a23c6a347"
      },
      "id": "I3nanUcSDmFX",
      "execution_count": 78,
      "outputs": [
        {
          "output_type": "execute_result",
          "data": {
            "text/plain": [
              "Text(0, 0.5, 'Age')"
            ]
          },
          "metadata": {},
          "execution_count": 78
        },
        {
          "output_type": "display_data",
          "data": {
            "text/plain": [
              "<Figure size 640x480 with 1 Axes>"
            ],
            "image/png": "[encoded data removed]"
          },
          "metadata": {}
        },
        {
          "output_type": "display_data",
          "data": {
            "text/plain": [
              "<Figure size 640x480 with 1 Axes>"
            ],
            "image/png": "[encoded data removed]"
          },
          "metadata": {}
        }
      ]
    },
    {
      "cell_type": "code",
      "source": [
        "# แผนภาพกล่องสำหรับตัวแปร Fare แยกตาม Pclass\n",
        "plt.subplot(1, 3, 2)\n",
        "titanic.boxplot(column='fare', by='pclass')\n",
        "plt.title('Box Plot of Fare by Pclass')\n",
        "plt.suptitle('')\n",
        "plt.xlabel('Pclass')\n",
        "plt.ylabel('Fare')"
      ],
      "metadata": {
        "colab": {
          "base_uri": "https://localhost:8080/",
          "height": 897
        },
        "id": "yjNNSXlVEHDo",
        "outputId": "66bba146-e269-44e2-bb4c-294e243be4d0"
      },
      "id": "yjNNSXlVEHDo",
      "execution_count": 80,
      "outputs": [
        {
          "output_type": "execute_result",
          "data": {
            "text/plain": [
              "Text(0, 0.5, 'Fare')"
            ]
          },
          "metadata": {},
          "execution_count": 80
        },
        {
          "output_type": "display_data",
          "data": {
            "text/plain": [
              "<Figure size 640x480 with 1 Axes>"
            ],
            "image/png": "[encoded data removed]"
          },
          "metadata": {}
        },
        {
          "output_type": "display_data",
          "data": {
            "text/plain": [
              "<Figure size 640x480 with 1 Axes>"
            ],
            "image/png": "[encoded data removed]"
          },
          "metadata": {}
        }
      ]
    },
    {
      "cell_type": "code",
      "source": [
        "# แผนภาพกล่องสำหรับตัวแปร Age แยกตาม Sex\n",
        "plt.subplot(1, 3, 3)\n",
        "titanic.boxplot(column='age', by='sex')\n",
        "plt.title('Box Plot of Age by Sex')\n",
        "plt.suptitle('')\n",
        "plt.xlabel('Sex')\n",
        "plt.ylabel('Age')\n",
        "plt.tight_layout()\n",
        "plt.show()"
      ],
      "metadata": {
        "colab": {
          "base_uri": "https://localhost:8080/",
          "height": 890
        },
        "id": "cjJIjD5WELWt",
        "outputId": "9d9ede41-032b-4108-feab-5b451a9f6768"
      },
      "id": "cjJIjD5WELWt",
      "execution_count": 83,
      "outputs": [
        {
          "output_type": "display_data",
          "data": {
            "text/plain": [
              "<Figure size 640x480 with 1 Axes>"
            ],
            "image/png": "[encoded data removed]"
          },
          "metadata": {}
        },
        {
          "output_type": "display_data",
          "data": {
            "text/plain": [
              "<Figure size 640x480 with 1 Axes>"
            ],
            "image/png": "[encoded data removed]"
          },
          "metadata": {}
        }
      ]
    },
    {
      "cell_type": "markdown",
      "id": "b69b218a",
      "metadata": {
        "id": "b69b218a"
      },
      "source": [
        "* เมื่อเตรียมข้อมูลพร้อมแล้ว ให้หาความสัมพันธ์ของตัวแปรต่อไปนี้จากข้อมูล ซึ่งอาจนำเสนอด้วยสถิติและแผนภูมิหรือกราฟก็ได้: \\\n",
        "    i. (10 points) survived และ pclass \\\n",
        "    ii. (10 points) survived และ sex \\\n",
        "    iii. (10 points) survived และ age \\\n",
        "    iv. (10 points) จำนวนสมาชิกครอบครัวที่รอดชีวิต และ Fare"
      ]
    },
    {
      "cell_type": "code",
      "execution_count": 85,
      "id": "27fcc0c4",
      "metadata": {
        "id": "27fcc0c4"
      },
      "outputs": [],
      "source": [
        "# เติมค่าว่างสำหรับตัวแปร Age และ Fare ด้วยค่าเฉลี่ย\n",
        "titanic['age'].fillna(titanic['age'].mean(), inplace=True)\n",
        "titanic['fare'].fillna(titanic['fare'].mean(), inplace=True)"
      ]
    },
    {
      "cell_type": "code",
      "source": [
        "# i. ความสัมพันธ์ระหว่าง Survived และ Pclass\n",
        "survived_pclass = pd.crosstab(titanic['survived'], titanic['pclass'])\n",
        "survived_pclass.plot(kind='bar', stacked=True, color=['red', 'blue', 'green'], figsize=(8, 6))\n",
        "plt.title('Survival by Passenger Class (Pclass)')\n",
        "plt.xlabel('Survived')\n",
        "plt.ylabel('Count')\n",
        "plt.xticks(ticks=[0, 1], labels=['Not Survived', 'Survived'], rotation=0)\n",
        "plt.legend(title='Pclass')\n",
        "plt.show()"
      ],
      "metadata": {
        "colab": {
          "base_uri": "https://localhost:8080/",
          "height": 564
        },
        "id": "XoMmScTDEz13",
        "outputId": "e5bb2889-dae5-4cb0-fdb8-d2f8098d936f"
      },
      "id": "XoMmScTDEz13",
      "execution_count": 87,
      "outputs": [
        {
          "output_type": "display_data",
          "data": {
            "text/plain": [
              "<Figure size 800x600 with 1 Axes>"
            ],
            "image/png": "[encoded data removed]"
          },
          "metadata": {}
        }
      ]
    },
    {
      "cell_type": "markdown",
      "source": [
        "Survived และ Pclass: ใช้ตารางไขว้ (pd.crosstab) เพื่อดูความถี่ของผู้รอดชีวิตตามชั้นโดยสาร (Pclass) และแสดงด้วยแผนภูมิแท่งแบบซ้อน (stacked bar chart) แสดงให้เห็นว่าโอกาสรอดชีวิตแตกต่างกันไปตามชั้นโดยสาร (Pclass) ที่ผู้โดยสารอยู่\n",
        "ผู้โดยสารในชั้น 1 (Pclass = 1) มีอัตราการรอดชีวิตสูงที่สุด\n",
        "ผู้โดยสารในชั้น 2 (Pclass = 2) มีอัตราการรอดชีวิตในระดับปานกลาง\n",
        "ผู้โดยสารในชั้น 3 (Pclass = 3) มีอัตราการรอดชีวิตต่ำที่สุด"
      ],
      "metadata": {
        "id": "p4465OGjFmWZ"
      },
      "id": "p4465OGjFmWZ"
    },
    {
      "cell_type": "code",
      "source": [
        "# ii. ความสัมพันธ์ระหว่าง Survived และ Sex\n",
        "survived_sex = pd.crosstab(titanic['survived'], titanic['sex'])\n",
        "survived_sex.plot(kind='bar', stacked=True, color=['purple', 'orange'], figsize=(8, 6))\n",
        "plt.title('Survival by Sex')\n",
        "plt.xlabel('Survived')\n",
        "plt.ylabel('Count')\n",
        "plt.xticks(ticks=[0, 1], labels=['Not Survived', 'Survived'], rotation=0)\n",
        "plt.legend(title='Sex')\n",
        "plt.show()"
      ],
      "metadata": {
        "colab": {
          "base_uri": "https://localhost:8080/",
          "height": 564
        },
        "id": "Oa1iNuwsE8Z1",
        "outputId": "bb38f5b1-2b96-4248-876b-52ec5e9962be"
      },
      "id": "Oa1iNuwsE8Z1",
      "execution_count": 89,
      "outputs": [
        {
          "output_type": "display_data",
          "data": {
            "text/plain": [
              "<Figure size 800x600 with 1 Axes>"
            ],
            "image/png": "[encoded data removed]"
          },
          "metadata": {}
        }
      ]
    },
    {
      "cell_type": "markdown",
      "source": [
        "Survived และ Sex: ใช้ตารางไขว้เพื่อแสดงจำนวนผู้รอดชีวิตแยกตามเพศ (Sex) และแสดงด้วยแผนภูมิแท่งแบบซ้อน (stacked bar chart) แสดงว่าเพศของผู้โดยสาร (sex) เป็นปัจจัยสำคัญที่มีผลต่ออัตราการรอดชีวิต\n",
        "ผู้หญิงมีอัตราการรอดชีวิตสูงกว่าผู้ชายมาก\n",
        "ผู้ชายมีอัตราการเสียชีวิตสูงกว่าผู้หญิงอย่างชัดเจน"
      ],
      "metadata": {
        "id": "cBz20WCIFpHC"
      },
      "id": "cBz20WCIFpHC"
    },
    {
      "cell_type": "code",
      "source": [
        "# iii. ความสัมพันธ์ระหว่าง Survived และ Age\n",
        "plt.figure(figsize=(8, 6))\n",
        "titanic.boxplot(column='age', by='survived', patch_artist=True)\n",
        "plt.title('Age Distribution by Survival Status')\n",
        "plt.suptitle('')  # ซ่อนหัวข้อที่ซ้ำกัน\n",
        "plt.xlabel('Survived')\n",
        "plt.ylabel('Age')\n",
        "plt.xticks(ticks=[1, 2], labels=['Not Survived', 'Survived'])\n",
        "plt.show()"
      ],
      "metadata": {
        "colab": {
          "base_uri": "https://localhost:8080/",
          "height": 479
        },
        "id": "qfaQoemMFHKg",
        "outputId": "9028313a-f397-45d3-e799-c4750f2b3368"
      },
      "id": "qfaQoemMFHKg",
      "execution_count": 91,
      "outputs": [
        {
          "output_type": "display_data",
          "data": {
            "text/plain": [
              "<Figure size 800x600 with 0 Axes>"
            ]
          },
          "metadata": {}
        },
        {
          "output_type": "display_data",
          "data": {
            "text/plain": [
              "<Figure size 640x480 with 1 Axes>"
            ],
            "image/png": "[encoded data removed]"
          },
          "metadata": {}
        }
      ]
    },
    {
      "cell_type": "markdown",
      "source": [
        "Survived และ Age: ใช้แผนภาพกล่อง (box plot) เพื่อแสดงการกระจายตัวของอายุระหว่างผู้รอดชีวิตและไม่รอดชีวิต แสดงให้เห็นการกระจายตัวของอายุ (age) ของผู้ที่รอดชีวิต (survived = 1) และไม่รอดชีวิต (survived = 0)\n",
        "ช่วงอายุของผู้รอดชีวิตกระจายมากกว่าผู้ที่ไม่รอดชีวิต โดยเฉพาะในกลุ่มอายุน้อย (เด็กและวัยรุ่น)\n",
        "ผู้โดยสารที่มีอายุสูงกว่า (ผู้สูงอายุ) มีแนวโน้มที่จะไม่รอดชีวิต"
      ],
      "metadata": {
        "id": "zcW9T2lgFrZh"
      },
      "id": "zcW9T2lgFrZh"
    },
    {
      "cell_type": "code",
      "source": [
        "# iv. ความสัมพันธ์ระหว่าง จำนวนสมาชิกครอบครัวที่รอดชีวิต และ Fare\n",
        "\n",
        "# สร้างตัวแปร FamilySize (จำนวนสมาชิกครอบครัว)\n",
        "titanic['FamilySize'] = titanic['sibsp'] + titanic['parch']\n",
        "\n",
        "survived_fare = titanic[titanic['survived'] == 1].groupby('FamilySize')['fare'].mean()\n",
        "\n",
        "# แสดงผลด้วยแผนภูมิเส้น\n",
        "plt.figure(figsize=(8, 6))\n",
        "survived_fare.plot(kind='line', marker='o', color='blue')\n",
        "plt.title('Average Fare by Family Size of Survivors')\n",
        "plt.xlabel('Family Size')\n",
        "plt.ylabel('Average Fare')\n",
        "plt.grid(True)\n",
        "plt.show()"
      ],
      "metadata": {
        "colab": {
          "base_uri": "https://localhost:8080/",
          "height": 564
        },
        "id": "AoypUDnrFQ_d",
        "outputId": "32a0c271-5430-4c2e-c721-a03778830a7e"
      },
      "id": "AoypUDnrFQ_d",
      "execution_count": 95,
      "outputs": [
        {
          "output_type": "display_data",
          "data": {
            "text/plain": [
              "<Figure size 800x600 with 1 Axes>"
            ],
            "image/png": "[encoded data removed]"
          },
          "metadata": {}
        }
      ]
    },
    {
      "cell_type": "markdown",
      "source": [
        "จำนวนสมาชิกครอบครัวที่รอดชีวิต และ Fare: คำนวณค่าเฉลี่ยของค่าโดยสาร (Fare) ที่จ่ายโดยผู้ที่รอดชีวิตแยกตามจำนวนสมาชิกครอบครัว (Family Size) และแสดงด้วยแผนภูมิเส้น (line chart) แสดงความสัมพันธ์ระหว่างค่าโดยสาร (Fare) เฉลี่ยกับจำนวนสมาชิกครอบครัว (FamilySize) ของผู้รอดชีวิต\n",
        "ผู้โดยสารที่จ่ายค่าโดยสารสูงขึ้น (Fare สูง) มักมีโอกาสรอดชีวิตสูงกว่า\n",
        "กลุ่มที่มีขนาดครอบครัวเล็กหรือไม่มีครอบครัว (FamilySize = 0) มีค่าเฉลี่ยของ Fare สูงกว่ากลุ่มที่มีขนาดครอบครัวใหญ่"
      ],
      "metadata": {
        "id": "0WDG2N-0Ft5i"
      },
      "id": "0WDG2N-0Ft5i"
    },
    {
      "cell_type": "markdown",
      "id": "c2d754e0",
      "metadata": {
        "id": "c2d754e0"
      },
      "source": [
        "* (10 points) สร้างตารางสรุปข้อมูลเพื่อหาคุณลักษณะของผู้โดยสารเรือไททานิค และศึกษาเกี่ยวกับการเสียชีวิตของผู้โดยสาร ทำการสรุปผลที่ได้จากตาราง"
      ]
    },
    {
      "cell_type": "code",
      "execution_count": 96,
      "id": "483206c4",
      "metadata": {
        "id": "483206c4"
      },
      "outputs": [],
      "source": [
        "# เติมค่าว่างสำหรับตัวแปร Age และ Fare ด้วยค่าเฉลี่ย\n",
        "titanic['age'].fillna(titanic['age'].mean(), inplace=True)\n",
        "titanic['fare'].fillna(titanic['fare'].mean(), inplace=True)"
      ]
    },
    {
      "cell_type": "code",
      "source": [
        "# สร้างตัวแปรใหม่ FamilySize (จำนวนสมาชิกครอบครัว)\n",
        "titanic['FamilySize'] = titanic['sibsp'] + titanic['parch']"
      ],
      "metadata": {
        "id": "RR5HwCqPGVMi"
      },
      "id": "RR5HwCqPGVMi",
      "execution_count": 100,
      "outputs": []
    },
    {
      "cell_type": "code",
      "source": [
        "# สร้างตารางสรุปข้อมูลโดยใช้กลุ่ม Survived\n",
        "summary = titanic.groupby('survived').agg({\n",
        "    'pclass': ['mean', 'count'],\n",
        "    'sex': lambda x: x.value_counts().index[0],  # เพศที่พบมากที่สุดในกลุ่ม\n",
        "    'age': ['mean', 'median', 'min', 'max'],\n",
        "    'fare': ['mean', 'median', 'min', 'max'],\n",
        "    'FamilySize': ['mean', 'median', 'min', 'max']\n",
        "}).reset_index()"
      ],
      "metadata": {
        "id": "TIZ4gGZIGX-n"
      },
      "id": "TIZ4gGZIGX-n",
      "execution_count": 101,
      "outputs": []
    },
    {
      "cell_type": "code",
      "source": [
        "# เปลี่ยนชื่อคอลัมน์ให้เข้าใจง่าย\n",
        "summary.columns = ['Survived', 'Avg_Pclass', 'Total_Count', 'Most_Common_Sex', 'Avg_Age', 'Median_Age', 'Min_Age', 'Max_Age',\n",
        "                   'Avg_Fare', 'Median_Fare', 'Min_Fare', 'Max_Fare', 'Avg_FamilySize', 'Median_FamilySize', 'Min_FamilySize', 'Max_FamilySize']\n",
        "# แสดงตารางสรุปข้อมูล\n",
        "print(summary)"
      ],
      "metadata": {
        "colab": {
          "base_uri": "https://localhost:8080/"
        },
        "id": "scqpKLZfGZDz",
        "outputId": "b69fbf28-1219-47c6-dfdc-a4bdcfa3e768"
      },
      "id": "scqpKLZfGZDz",
      "execution_count": 102,
      "outputs": [
        {
          "output_type": "stream",
          "name": "stdout",
          "text": [
            "   Survived  Avg_Pclass  Total_Count Most_Common_Sex   Avg_Age  Median_Age  \\\n",
            "0         0    2.500618          809            male  0.378572    0.372206   \n",
            "1         1    1.962000          500          female  0.361906    0.372206   \n",
            "\n",
            "    Min_Age   Max_Age  Avg_Fare  Median_Fare  Min_Fare  Max_Fare  \\\n",
            "0  0.002087  0.924843  0.045608     0.020495       0.0  0.513342   \n",
            "1  0.000000  1.000000  0.096347     0.050749       0.0  1.000000   \n",
            "\n",
            "   Avg_FamilySize  Median_FamilySize  Min_FamilySize  Max_FamilySize  \n",
            "0        0.850433                0.0               0              10  \n",
            "1        0.938000                1.0               0               6  \n"
          ]
        }
      ]
    },
    {
      "cell_type": "markdown",
      "source": [
        "แสดงให้เห็นว่าปัจจัยหลายอย่าง เช่น ชั้นโดยสาร, เพศ, อายุ, ค่าโดยสาร และจำนวนสมาชิกครอบครัวมีผลต่ออัตราการรอดชีวิตของผู้โดยสารบนเรือไททานิค โดยมีแนวโน้มว่าผู้โดยสารหญิงที่อายุน้อยกว่าและจ่ายค่าโดยสารสูงกว่าจะมีโอกาสรอดชีวิตมากกว่า."
      ],
      "metadata": {
        "id": "IT2KyEbmG5z3"
      },
      "id": "IT2KyEbmG5z3"
    },
    {
      "cell_type": "markdown",
      "id": "35649ff8",
      "metadata": {
        "id": "35649ff8"
      },
      "source": [
        "-----------------\n",
        "# เสร็จแล้ววววว 🥳\n",
        "\n",
        "สิ่งที่ต้องแนบส่ง:\n",
        "* ไฟล์ pdf ของ IPythonNotebook ซึ่งมีผลลัพธ์จากการรันโค้ดแสดงทั้งหมด"
      ]
    }
  ],
  "metadata": {
    "kernelspec": {
      "display_name": "Python 3 (ipykernel)",
      "language": "python",
      "name": "python3"
    },
    "language_info": {
      "codemirror_mode": {
        "name": "ipython",
        "version": 3
      },
      "file_extension": ".py",
      "mimetype": "text/x-python",
      "name": "python",
      "nbconvert_exporter": "python",
      "pygments_lexer": "ipython3",
      "version": "3.8.8"
    },
    "colab": {
      "provenance": [],
      "include_colab_link": true
    }
  },
  "nbformat": 4,
  "nbformat_minor": 5
}